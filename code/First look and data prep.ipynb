{
 "cells": [
  {
   "cell_type": "code",
   "execution_count": 1,
   "metadata": {},
   "outputs": [],
   "source": [
    "import numpy as np\n",
    "import pandas as pd\n",
    "from sklearn.preprocessing import LabelEncoder"
   ]
  },
  {
   "cell_type": "markdown",
   "metadata": {},
   "source": [
    "## Read data"
   ]
  },
  {
   "cell_type": "code",
   "execution_count": 2,
   "metadata": {},
   "outputs": [
    {
     "name": "stdout",
     "output_type": "stream",
     "text": [
      "<class 'pandas.core.frame.DataFrame'>\n",
      "RangeIndex: 3865 entries, 0 to 3864\n",
      "Data columns (total 80 columns):\n",
      "galactic_year                                                                              3865 non-null int64\n",
      "galaxy                                                                                     3865 non-null object\n",
      "existence expectancy index                                                                 3864 non-null float64\n",
      "existence expectancy at birth                                                              3864 non-null float64\n",
      "Gross income per capita                                                                    3837 non-null float64\n",
      "Income Index                                                                               3837 non-null float64\n",
      "Expected years of education (galactic years)                                               3732 non-null float64\n",
      "Mean years of education (galactic years)                                                   3502 non-null float64\n",
      "Intergalactic Development Index (IDI)                                                      3474 non-null float64\n",
      "Education Index                                                                            3474 non-null float64\n",
      "Intergalactic Development Index (IDI), Rank                                                3432 non-null float64\n",
      "Population using at least basic drinking-water services (%)                                2021 non-null float64\n",
      "Population using at least basic sanitation services (%)                                    2015 non-null float64\n",
      "Gross capital formation (% of GGP)                                                         1502 non-null float64\n",
      "Population, total (millions)                                                               1271 non-null float64\n",
      "Population, urban (%)                                                                      1271 non-null float64\n",
      "Mortality rate, under-five (per 1,000 live births)                                         1271 non-null float64\n",
      "Mortality rate, infant (per 1,000 live births)                                             1259 non-null float64\n",
      "Old age dependency ratio (old age (65 and older) per 100 creatures (ages 15-64))           1264 non-null float64\n",
      "Population, ages 15–64 (millions)                                                          1264 non-null float64\n",
      "Population, ages 65 and older (millions)                                                   1264 non-null float64\n",
      "Life expectancy at birth, male (galactic years)                                            1264 non-null float64\n",
      "Life expectancy at birth, female (galactic years)                                          1264 non-null float64\n",
      "Population, under age 5 (millions)                                                         1264 non-null float64\n",
      "Young age (0-14) dependency ratio (per 100 creatures ages 15-64)                           1264 non-null float64\n",
      "Adolescent birth rate (births per 1,000 female creatures ages 15-19)                       1252 non-null float64\n",
      "Total unemployment rate (female to male ratio)                                             1237 non-null float64\n",
      "Vulnerable employment (% of total employment)                                              1237 non-null float64\n",
      "Unemployment, total (% of labour force)                                                    1237 non-null float64\n",
      "Employment in agriculture (% of total employment)                                          1237 non-null float64\n",
      "Labour force participation rate (% ages 15 and older)                                      1237 non-null float64\n",
      "Labour force participation rate (% ages 15 and older), female                              1237 non-null float64\n",
      "Employment in services (% of total employment)                                             1237 non-null float64\n",
      "Labour force participation rate (% ages 15 and older), male                                1237 non-null float64\n",
      "Employment to population ratio (% ages 15 and older)                                       1237 non-null float64\n",
      "Jungle area (% of total land area)                                                         1234 non-null float64\n",
      "Share of employment in nonagriculture, female (% of total employment in nonagriculture)    1237 non-null float64\n",
      "Youth unemployment rate (female to male ratio)                                             1236 non-null float64\n",
      "Unemployment, youth (% ages 15–24)                                                         1236 non-null float64\n",
      "Mortality rate, female grown up (per 1,000 people)                                         1253 non-null float64\n",
      "Mortality rate, male grown up (per 1,000 people)                                           1253 non-null float64\n",
      "Infants lacking immunization, red hot disease (% of one-galactic year-olds)                1219 non-null float64\n",
      "Infants lacking immunization, Combination Vaccine (% of one-galactic year-olds)            1219 non-null float64\n",
      "Gross galactic product (GGP) per capita                                                    1202 non-null float64\n",
      "Gross galactic product (GGP), total                                                        1202 non-null float64\n",
      "Outer Galaxies direct investment, net inflows (% of GGP)                                   1169 non-null float64\n",
      "Exports and imports (% of GGP)                                                             1144 non-null float64\n",
      "Share of seats in senate (% held by female)                                                1123 non-null float64\n",
      "Natural resource depletion                                                                 1132 non-null float64\n",
      "Mean years of education, female (galactic years)                                           1140 non-null float64\n",
      "Mean years of education, male (galactic years)                                             1138 non-null float64\n",
      "Expected years of education, female (galactic years)                                       1109 non-null float64\n",
      "Expected years of education, male (galactic years)                                         1108 non-null float64\n",
      "Maternal mortality ratio (deaths per 100,000 live births)                                  1252 non-null float64\n",
      "Renewable energy consumption (% of total final energy consumption)                         1235 non-null float64\n",
      "Estimated gross galactic income per capita, male                                           1055 non-null float64\n",
      "Estimated gross galactic income per capita, female                                         1055 non-null float64\n",
      "Rural population with access to electricity (%)                                            1029 non-null float64\n",
      "Domestic credit provided by financial sector (% of GGP)                                    1079 non-null float64\n",
      "Population with at least some secondary education, female (% ages 25 and older)            1089 non-null float64\n",
      "Population with at least some secondary education, male (% ages 25 and older)              1087 non-null float64\n",
      "Gross fixed capital formation (% of GGP)                                                   1074 non-null float64\n",
      "Remittances, inflows (% of GGP)                                                            1028 non-null float64\n",
      "Population with at least some secondary education (% ages 25 and older)                    1051 non-null float64\n",
      "Intergalactic inbound tourists (thousands)                                                 995 non-null float64\n",
      "Gross enrolment ratio, primary (% of primary under-age population)                         1038 non-null float64\n",
      "Respiratory disease incidence (per 100,000 people)                                         896 non-null float64\n",
      "Interstellar phone subscriptions (per 100 people)                                          891 non-null float64\n",
      "Interstellar Data Net users, total (% of population)                                       872 non-null float64\n",
      "Current health expenditure (% of GGP)                                                      867 non-null float64\n",
      "Intergalactic Development Index (IDI), female                                              916 non-null float64\n",
      "Intergalactic Development Index (IDI), male                                                915 non-null float64\n",
      "Gender Development Index (GDI)                                                             914 non-null float64\n",
      "Intergalactic Development Index (IDI), female, Rank                                        893 non-null float64\n",
      "Intergalactic Development Index (IDI), male, Rank                                          892 non-null float64\n",
      "Adjusted net savings                                                                       912 non-null float64\n",
      "Creature Immunodeficiency Disease prevalence, adult (% ages 15-49), total                  941 non-null float64\n",
      "Private galaxy capital flows (% of GGP)                                                    874 non-null float64\n",
      "Gender Inequality Index (GII)                                                              844 non-null float64\n",
      "y                                                                                          3865 non-null float64\n",
      "dtypes: float64(78), int64(1), object(1)\n",
      "memory usage: 2.4+ MB\n"
     ]
    }
   ],
   "source": [
    "data_train = pd.read_csv('../data/train.csv')\n",
    "data_train.columns = ['galactic_year'] + list(data_train.columns[1:])\n",
    "data_train.info()"
   ]
  },
  {
   "cell_type": "code",
   "execution_count": 3,
   "metadata": {},
   "outputs": [
    {
     "name": "stdout",
     "output_type": "stream",
     "text": [
      "<class 'pandas.core.frame.DataFrame'>\n",
      "RangeIndex: 890 entries, 0 to 889\n",
      "Data columns (total 79 columns):\n",
      "galactic_year                                                                              890 non-null int64\n",
      "galaxy                                                                                     890 non-null object\n",
      "existence expectancy index                                                                 885 non-null float64\n",
      "existence expectancy at birth                                                              885 non-null float64\n",
      "Gross income per capita                                                                    885 non-null float64\n",
      "Income Index                                                                               885 non-null float64\n",
      "Expected years of education (galactic years)                                               885 non-null float64\n",
      "Mean years of education (galactic years)                                                   882 non-null float64\n",
      "Intergalactic Development Index (IDI)                                                      882 non-null float64\n",
      "Education Index                                                                            882 non-null float64\n",
      "Intergalactic Development Index (IDI), Rank                                                880 non-null float64\n",
      "Population using at least basic drinking-water services (%)                                880 non-null float64\n",
      "Population using at least basic sanitation services (%)                                    880 non-null float64\n",
      "Gross capital formation (% of GGP)                                                         828 non-null float64\n",
      "Population, total (millions)                                                               615 non-null float64\n",
      "Population, urban (%)                                                                      615 non-null float64\n",
      "Mortality rate, under-five (per 1,000 live births)                                         615 non-null float64\n",
      "Mortality rate, infant (per 1,000 live births)                                             615 non-null float64\n",
      "Old age dependency ratio (old age (65 and older) per 100 creatures (ages 15-64))           610 non-null float64\n",
      "Population, ages 15–64 (millions)                                                          610 non-null float64\n",
      "Population, ages 65 and older (millions)                                                   610 non-null float64\n",
      "Life expectancy at birth, male (galactic years)                                            610 non-null float64\n",
      "Life expectancy at birth, female (galactic years)                                          610 non-null float64\n",
      "Population, under age 5 (millions)                                                         610 non-null float64\n",
      "Young age (0-14) dependency ratio (per 100 creatures ages 15-64)                           610 non-null float64\n",
      "Adolescent birth rate (births per 1,000 female creatures ages 15-19)                       610 non-null float64\n",
      "Total unemployment rate (female to male ratio)                                             605 non-null float64\n",
      "Vulnerable employment (% of total employment)                                              605 non-null float64\n",
      "Unemployment, total (% of labour force)                                                    605 non-null float64\n",
      "Employment in agriculture (% of total employment)                                          605 non-null float64\n",
      "Labour force participation rate (% ages 15 and older)                                      605 non-null float64\n",
      "Labour force participation rate (% ages 15 and older), female                              605 non-null float64\n",
      "Employment in services (% of total employment)                                             605 non-null float64\n",
      "Labour force participation rate (% ages 15 and older), male                                605 non-null float64\n",
      "Employment to population ratio (% ages 15 and older)                                       605 non-null float64\n",
      "Jungle area (% of total land area)                                                         608 non-null float64\n",
      "Share of employment in nonagriculture, female (% of total employment in nonagriculture)    605 non-null float64\n",
      "Youth unemployment rate (female to male ratio)                                             605 non-null float64\n",
      "Unemployment, youth (% ages 15–24)                                                         605 non-null float64\n",
      "Mortality rate, female grown up (per 1,000 people)                                         595 non-null float64\n",
      "Mortality rate, male grown up (per 1,000 people)                                           595 non-null float64\n",
      "Infants lacking immunization, red hot disease (% of one-galactic year-olds)                615 non-null float64\n",
      "Infants lacking immunization, Combination Vaccine (% of one-galactic year-olds)            615 non-null float64\n",
      "Gross galactic product (GGP) per capita                                                    605 non-null float64\n",
      "Gross galactic product (GGP), total                                                        605 non-null float64\n",
      "Outer Galaxies direct investment, net inflows (% of GGP)                                   610 non-null float64\n",
      "Exports and imports (% of GGP)                                                             589 non-null float64\n",
      "Share of seats in senate (% held by female)                                                600 non-null float64\n",
      "Natural resource depletion                                                                 591 non-null float64\n",
      "Mean years of education, female (galactic years)                                           575 non-null float64\n",
      "Mean years of education, male (galactic years)                                             575 non-null float64\n",
      "Expected years of education, female (galactic years)                                       595 non-null float64\n",
      "Expected years of education, male (galactic years)                                         595 non-null float64\n",
      "Maternal mortality ratio (deaths per 100,000 live births)                                  530 non-null float64\n",
      "Renewable energy consumption (% of total final energy consumption)                         534 non-null float64\n",
      "Estimated gross galactic income per capita, male                                           605 non-null float64\n",
      "Estimated gross galactic income per capita, female                                         605 non-null float64\n",
      "Rural population with access to electricity (%)                                            615 non-null float64\n",
      "Domestic credit provided by financial sector (% of GGP)                                    569 non-null float64\n",
      "Population with at least some secondary education, female (% ages 25 and older)            550 non-null float64\n",
      "Population with at least some secondary education, male (% ages 25 and older)              550 non-null float64\n",
      "Gross fixed capital formation (% of GGP)                                                   556 non-null float64\n",
      "Remittances, inflows (% of GGP)                                                            576 non-null float64\n",
      "Population with at least some secondary education (% ages 25 and older)                    540 non-null float64\n",
      "Intergalactic inbound tourists (thousands)                                                 574 non-null float64\n",
      "Gross enrolment ratio, primary (% of primary under-age population)                         504 non-null float64\n",
      "Respiratory disease incidence (per 100,000 people)                                         615 non-null float64\n",
      "Interstellar phone subscriptions (per 100 people)                                          613 non-null float64\n",
      "Interstellar Data Net users, total (% of population)                                       603 non-null float64\n",
      "Current health expenditure (% of GGP)                                                      606 non-null float64\n",
      "Intergalactic Development Index (IDI), female                                              560 non-null float64\n",
      "Intergalactic Development Index (IDI), male                                                560 non-null float64\n",
      "Gender Development Index (GDI)                                                             560 non-null float64\n",
      "Intergalactic Development Index (IDI), female, Rank                                        549 non-null float64\n",
      "Intergalactic Development Index (IDI), male, Rank                                          549 non-null float64\n",
      "Adjusted net savings                                                                       519 non-null float64\n",
      "Creature Immunodeficiency Disease prevalence, adult (% ages 15-49), total                  482 non-null float64\n",
      "Private galaxy capital flows (% of GGP)                                                    536 non-null float64\n",
      "Gender Inequality Index (GII)                                                              529 non-null float64\n",
      "dtypes: float64(77), int64(1), object(1)\n",
      "memory usage: 549.4+ KB\n"
     ]
    }
   ],
   "source": [
    "data_test = pd.read_csv('../data/test.csv')\n",
    "data_test.columns = ['galactic_year'] + list(data_test.columns[1:])\n",
    "data_test.info()"
   ]
  },
  {
   "cell_type": "code",
   "execution_count": 4,
   "metadata": {},
   "outputs": [
    {
     "data": {
      "text/plain": [
       "((3865, 80), (890, 79))"
      ]
     },
     "execution_count": 4,
     "metadata": {},
     "output_type": "execute_result"
    }
   ],
   "source": [
    "data_train.shape, data_test.shape"
   ]
  },
  {
   "cell_type": "code",
   "execution_count": 5,
   "metadata": {},
   "outputs": [
    {
     "name": "stdout",
     "output_type": "stream",
     "text": [
      "<class 'pandas.core.frame.DataFrame'>\n",
      "RangeIndex: 890 entries, 0 to 889\n",
      "Data columns (total 3 columns):\n",
      "index       890 non-null int64\n",
      "pred        890 non-null float64\n",
      "opt_pred    890 non-null int64\n",
      "dtypes: float64(1), int64(2)\n",
      "memory usage: 21.0 KB\n"
     ]
    }
   ],
   "source": [
    "sample_sub = pd.read_csv('../data/sample_submit.csv')\n",
    "sample_sub.info()"
   ]
  },
  {
   "cell_type": "code",
   "execution_count": 6,
   "metadata": {},
   "outputs": [
    {
     "data": {
      "text/html": [
       "<div>\n",
       "<style scoped>\n",
       "    .dataframe tbody tr th:only-of-type {\n",
       "        vertical-align: middle;\n",
       "    }\n",
       "\n",
       "    .dataframe tbody tr th {\n",
       "        vertical-align: top;\n",
       "    }\n",
       "\n",
       "    .dataframe thead th {\n",
       "        text-align: right;\n",
       "    }\n",
       "</style>\n",
       "<table border=\"1\" class=\"dataframe\">\n",
       "  <thead>\n",
       "    <tr style=\"text-align: right;\">\n",
       "      <th></th>\n",
       "      <th>index</th>\n",
       "      <th>pred</th>\n",
       "      <th>opt_pred</th>\n",
       "    </tr>\n",
       "  </thead>\n",
       "  <tbody>\n",
       "    <tr>\n",
       "      <th>0</th>\n",
       "      <td>0</td>\n",
       "      <td>0.08</td>\n",
       "      <td>100</td>\n",
       "    </tr>\n",
       "    <tr>\n",
       "      <th>1</th>\n",
       "      <td>1</td>\n",
       "      <td>0.08</td>\n",
       "      <td>100</td>\n",
       "    </tr>\n",
       "    <tr>\n",
       "      <th>2</th>\n",
       "      <td>2</td>\n",
       "      <td>0.08</td>\n",
       "      <td>100</td>\n",
       "    </tr>\n",
       "    <tr>\n",
       "      <th>3</th>\n",
       "      <td>3</td>\n",
       "      <td>0.08</td>\n",
       "      <td>100</td>\n",
       "    </tr>\n",
       "    <tr>\n",
       "      <th>4</th>\n",
       "      <td>4</td>\n",
       "      <td>0.08</td>\n",
       "      <td>100</td>\n",
       "    </tr>\n",
       "  </tbody>\n",
       "</table>\n",
       "</div>"
      ],
      "text/plain": [
       "   index  pred  opt_pred\n",
       "0      0  0.08       100\n",
       "1      1  0.08       100\n",
       "2      2  0.08       100\n",
       "3      3  0.08       100\n",
       "4      4  0.08       100"
      ]
     },
     "execution_count": 6,
     "metadata": {},
     "output_type": "execute_result"
    }
   ],
   "source": [
    "sample_sub.head()"
   ]
  },
  {
   "cell_type": "code",
   "execution_count": 7,
   "metadata": {},
   "outputs": [
    {
     "data": {
      "text/plain": [
       "45900"
      ]
     },
     "execution_count": 7,
     "metadata": {},
     "output_type": "execute_result"
    }
   ],
   "source": [
    "sample_sub.opt_pred.sum()"
   ]
  },
  {
   "cell_type": "markdown",
   "metadata": {},
   "source": [
    "## Basic exploration"
   ]
  },
  {
   "cell_type": "code",
   "execution_count": 8,
   "metadata": {},
   "outputs": [
    {
     "data": {
      "text/html": [
       "<div>\n",
       "<style scoped>\n",
       "    .dataframe tbody tr th:only-of-type {\n",
       "        vertical-align: middle;\n",
       "    }\n",
       "\n",
       "    .dataframe tbody tr th {\n",
       "        vertical-align: top;\n",
       "    }\n",
       "\n",
       "    .dataframe thead th {\n",
       "        text-align: right;\n",
       "    }\n",
       "</style>\n",
       "<table border=\"1\" class=\"dataframe\">\n",
       "  <thead>\n",
       "    <tr style=\"text-align: right;\">\n",
       "      <th></th>\n",
       "      <th>galactic_year</th>\n",
       "      <th>galaxy</th>\n",
       "      <th>existence expectancy index</th>\n",
       "      <th>existence expectancy at birth</th>\n",
       "      <th>Gross income per capita</th>\n",
       "      <th>Income Index</th>\n",
       "      <th>Expected years of education (galactic years)</th>\n",
       "      <th>Mean years of education (galactic years)</th>\n",
       "      <th>Intergalactic Development Index (IDI)</th>\n",
       "      <th>Education Index</th>\n",
       "      <th>...</th>\n",
       "      <th>Intergalactic Development Index (IDI), female</th>\n",
       "      <th>Intergalactic Development Index (IDI), male</th>\n",
       "      <th>Gender Development Index (GDI)</th>\n",
       "      <th>Intergalactic Development Index (IDI), female, Rank</th>\n",
       "      <th>Intergalactic Development Index (IDI), male, Rank</th>\n",
       "      <th>Adjusted net savings</th>\n",
       "      <th>Creature Immunodeficiency Disease prevalence, adult (% ages 15-49), total</th>\n",
       "      <th>Private galaxy capital flows (% of GGP)</th>\n",
       "      <th>Gender Inequality Index (GII)</th>\n",
       "      <th>y</th>\n",
       "    </tr>\n",
       "  </thead>\n",
       "  <tbody>\n",
       "    <tr>\n",
       "      <th>0</th>\n",
       "      <td>990025</td>\n",
       "      <td>Large Magellanic Cloud (LMC)</td>\n",
       "      <td>0.628657</td>\n",
       "      <td>63.125200</td>\n",
       "      <td>27109.234310</td>\n",
       "      <td>0.646039</td>\n",
       "      <td>8.240543</td>\n",
       "      <td>NaN</td>\n",
       "      <td>NaN</td>\n",
       "      <td>NaN</td>\n",
       "      <td>...</td>\n",
       "      <td>NaN</td>\n",
       "      <td>NaN</td>\n",
       "      <td>NaN</td>\n",
       "      <td>NaN</td>\n",
       "      <td>NaN</td>\n",
       "      <td>NaN</td>\n",
       "      <td>NaN</td>\n",
       "      <td>NaN</td>\n",
       "      <td>NaN</td>\n",
       "      <td>0.052590</td>\n",
       "    </tr>\n",
       "    <tr>\n",
       "      <th>1</th>\n",
       "      <td>990025</td>\n",
       "      <td>Camelopardalis B</td>\n",
       "      <td>0.818082</td>\n",
       "      <td>81.004994</td>\n",
       "      <td>30166.793958</td>\n",
       "      <td>0.852246</td>\n",
       "      <td>10.671823</td>\n",
       "      <td>4.74247</td>\n",
       "      <td>0.833624</td>\n",
       "      <td>0.467873</td>\n",
       "      <td>...</td>\n",
       "      <td>NaN</td>\n",
       "      <td>NaN</td>\n",
       "      <td>NaN</td>\n",
       "      <td>NaN</td>\n",
       "      <td>NaN</td>\n",
       "      <td>19.177926</td>\n",
       "      <td>NaN</td>\n",
       "      <td>22.785018</td>\n",
       "      <td>NaN</td>\n",
       "      <td>0.059868</td>\n",
       "    </tr>\n",
       "  </tbody>\n",
       "</table>\n",
       "<p>2 rows × 80 columns</p>\n",
       "</div>"
      ],
      "text/plain": [
       "   galactic_year                        galaxy  existence expectancy index  \\\n",
       "0         990025  Large Magellanic Cloud (LMC)                    0.628657   \n",
       "1         990025              Camelopardalis B                    0.818082   \n",
       "\n",
       "   existence expectancy at birth  Gross income per capita  Income Index  \\\n",
       "0                      63.125200             27109.234310      0.646039   \n",
       "1                      81.004994             30166.793958      0.852246   \n",
       "\n",
       "   Expected years of education (galactic years)  \\\n",
       "0                                      8.240543   \n",
       "1                                     10.671823   \n",
       "\n",
       "   Mean years of education (galactic years)  \\\n",
       "0                                       NaN   \n",
       "1                                   4.74247   \n",
       "\n",
       "   Intergalactic Development Index (IDI)  Education Index  ...  \\\n",
       "0                                    NaN              NaN  ...   \n",
       "1                               0.833624         0.467873  ...   \n",
       "\n",
       "   Intergalactic Development Index (IDI), female  \\\n",
       "0                                            NaN   \n",
       "1                                            NaN   \n",
       "\n",
       "   Intergalactic Development Index (IDI), male  \\\n",
       "0                                          NaN   \n",
       "1                                          NaN   \n",
       "\n",
       "   Gender Development Index (GDI)  \\\n",
       "0                             NaN   \n",
       "1                             NaN   \n",
       "\n",
       "   Intergalactic Development Index (IDI), female, Rank  \\\n",
       "0                                                NaN     \n",
       "1                                                NaN     \n",
       "\n",
       "   Intergalactic Development Index (IDI), male, Rank  Adjusted net savings   \\\n",
       "0                                                NaN                    NaN   \n",
       "1                                                NaN              19.177926   \n",
       "\n",
       "   Creature Immunodeficiency Disease prevalence, adult (% ages 15-49), total  \\\n",
       "0                                                NaN                           \n",
       "1                                                NaN                           \n",
       "\n",
       "   Private galaxy capital flows (% of GGP)  Gender Inequality Index (GII)  \\\n",
       "0                                      NaN                            NaN   \n",
       "1                                22.785018                            NaN   \n",
       "\n",
       "          y  \n",
       "0  0.052590  \n",
       "1  0.059868  \n",
       "\n",
       "[2 rows x 80 columns]"
      ]
     },
     "execution_count": 8,
     "metadata": {},
     "output_type": "execute_result"
    }
   ],
   "source": [
    "data_train.head(2)"
   ]
  },
  {
   "cell_type": "code",
   "execution_count": 9,
   "metadata": {},
   "outputs": [
    {
     "data": {
      "text/html": [
       "<div>\n",
       "<style scoped>\n",
       "    .dataframe tbody tr th:only-of-type {\n",
       "        vertical-align: middle;\n",
       "    }\n",
       "\n",
       "    .dataframe tbody tr th {\n",
       "        vertical-align: top;\n",
       "    }\n",
       "\n",
       "    .dataframe thead th {\n",
       "        text-align: right;\n",
       "    }\n",
       "</style>\n",
       "<table border=\"1\" class=\"dataframe\">\n",
       "  <thead>\n",
       "    <tr style=\"text-align: right;\">\n",
       "      <th></th>\n",
       "      <th>galactic_year</th>\n",
       "      <th>galaxy</th>\n",
       "      <th>existence expectancy index</th>\n",
       "      <th>existence expectancy at birth</th>\n",
       "      <th>Gross income per capita</th>\n",
       "      <th>Income Index</th>\n",
       "      <th>Expected years of education (galactic years)</th>\n",
       "      <th>Mean years of education (galactic years)</th>\n",
       "      <th>Intergalactic Development Index (IDI)</th>\n",
       "      <th>Education Index</th>\n",
       "      <th>...</th>\n",
       "      <th>Current health expenditure (% of GGP)</th>\n",
       "      <th>Intergalactic Development Index (IDI), female</th>\n",
       "      <th>Intergalactic Development Index (IDI), male</th>\n",
       "      <th>Gender Development Index (GDI)</th>\n",
       "      <th>Intergalactic Development Index (IDI), female, Rank</th>\n",
       "      <th>Intergalactic Development Index (IDI), male, Rank</th>\n",
       "      <th>Adjusted net savings</th>\n",
       "      <th>Creature Immunodeficiency Disease prevalence, adult (% ages 15-49), total</th>\n",
       "      <th>Private galaxy capital flows (% of GGP)</th>\n",
       "      <th>Gender Inequality Index (GII)</th>\n",
       "    </tr>\n",
       "  </thead>\n",
       "  <tbody>\n",
       "    <tr>\n",
       "      <th>0</th>\n",
       "      <td>1007012</td>\n",
       "      <td>KK98 77</td>\n",
       "      <td>0.456086</td>\n",
       "      <td>51.562543</td>\n",
       "      <td>12236.576447</td>\n",
       "      <td>0.593325</td>\n",
       "      <td>10.414164</td>\n",
       "      <td>10.699072</td>\n",
       "      <td>0.547114</td>\n",
       "      <td>0.556267</td>\n",
       "      <td>...</td>\n",
       "      <td>NaN</td>\n",
       "      <td>NaN</td>\n",
       "      <td>NaN</td>\n",
       "      <td>NaN</td>\n",
       "      <td>NaN</td>\n",
       "      <td>NaN</td>\n",
       "      <td>NaN</td>\n",
       "      <td>NaN</td>\n",
       "      <td>NaN</td>\n",
       "      <td>NaN</td>\n",
       "    </tr>\n",
       "    <tr>\n",
       "      <th>1</th>\n",
       "      <td>1007012</td>\n",
       "      <td>Reticulum III</td>\n",
       "      <td>0.529835</td>\n",
       "      <td>57.228262</td>\n",
       "      <td>3431.883825</td>\n",
       "      <td>0.675407</td>\n",
       "      <td>7.239485</td>\n",
       "      <td>5.311122</td>\n",
       "      <td>0.497688</td>\n",
       "      <td>0.409969</td>\n",
       "      <td>...</td>\n",
       "      <td>NaN</td>\n",
       "      <td>NaN</td>\n",
       "      <td>NaN</td>\n",
       "      <td>NaN</td>\n",
       "      <td>NaN</td>\n",
       "      <td>NaN</td>\n",
       "      <td>NaN</td>\n",
       "      <td>NaN</td>\n",
       "      <td>NaN</td>\n",
       "      <td>NaN</td>\n",
       "    </tr>\n",
       "  </tbody>\n",
       "</table>\n",
       "<p>2 rows × 79 columns</p>\n",
       "</div>"
      ],
      "text/plain": [
       "   galactic_year         galaxy  existence expectancy index  \\\n",
       "0        1007012        KK98 77                    0.456086   \n",
       "1        1007012  Reticulum III                    0.529835   \n",
       "\n",
       "   existence expectancy at birth  Gross income per capita  Income Index  \\\n",
       "0                      51.562543             12236.576447      0.593325   \n",
       "1                      57.228262              3431.883825      0.675407   \n",
       "\n",
       "   Expected years of education (galactic years)  \\\n",
       "0                                     10.414164   \n",
       "1                                      7.239485   \n",
       "\n",
       "   Mean years of education (galactic years)  \\\n",
       "0                                 10.699072   \n",
       "1                                  5.311122   \n",
       "\n",
       "   Intergalactic Development Index (IDI)  Education Index  ...  \\\n",
       "0                               0.547114         0.556267  ...   \n",
       "1                               0.497688         0.409969  ...   \n",
       "\n",
       "   Current health expenditure (% of GGP)  \\\n",
       "0                                    NaN   \n",
       "1                                    NaN   \n",
       "\n",
       "   Intergalactic Development Index (IDI), female  \\\n",
       "0                                            NaN   \n",
       "1                                            NaN   \n",
       "\n",
       "   Intergalactic Development Index (IDI), male  \\\n",
       "0                                          NaN   \n",
       "1                                          NaN   \n",
       "\n",
       "   Gender Development Index (GDI)  \\\n",
       "0                             NaN   \n",
       "1                             NaN   \n",
       "\n",
       "   Intergalactic Development Index (IDI), female, Rank  \\\n",
       "0                                                NaN     \n",
       "1                                                NaN     \n",
       "\n",
       "   Intergalactic Development Index (IDI), male, Rank  Adjusted net savings   \\\n",
       "0                                                NaN                    NaN   \n",
       "1                                                NaN                    NaN   \n",
       "\n",
       "   Creature Immunodeficiency Disease prevalence, adult (% ages 15-49), total  \\\n",
       "0                                                NaN                           \n",
       "1                                                NaN                           \n",
       "\n",
       "   Private galaxy capital flows (% of GGP)  Gender Inequality Index (GII)  \n",
       "0                                      NaN                            NaN  \n",
       "1                                      NaN                            NaN  \n",
       "\n",
       "[2 rows x 79 columns]"
      ]
     },
     "execution_count": 9,
     "metadata": {},
     "output_type": "execute_result"
    }
   ],
   "source": [
    "data_test.head(2)"
   ]
  },
  {
   "cell_type": "code",
   "execution_count": 10,
   "metadata": {},
   "outputs": [
    {
     "data": {
      "text/plain": [
       "array([ 990025,  991020,  992016,  993012,  994009,  995006,  996004,\n",
       "        997002,  998001,  999000, 1000000, 1001000, 1002001, 1003002,\n",
       "       1004004, 1005006, 1006009, 1007012, 1008016, 1009020, 1010025,\n",
       "       1011030, 1012036, 1013042, 1014049, 1015056])"
      ]
     },
     "execution_count": 10,
     "metadata": {},
     "output_type": "execute_result"
    }
   ],
   "source": [
    "data_train.galactic_year.unique()"
   ]
  },
  {
   "cell_type": "code",
   "execution_count": 11,
   "metadata": {},
   "outputs": [
    {
     "data": {
      "text/plain": [
       "(0.013036451766586963, 0.6838126553011508)"
      ]
     },
     "execution_count": 11,
     "metadata": {},
     "output_type": "execute_result"
    }
   ],
   "source": [
    "data_train.y.min(), data_train.y.max()"
   ]
  },
  {
   "cell_type": "code",
   "execution_count": 12,
   "metadata": {},
   "outputs": [
    {
     "data": {
      "text/plain": [
       "(181, 172, 172)"
      ]
     },
     "execution_count": 12,
     "metadata": {},
     "output_type": "execute_result"
    }
   ],
   "source": [
    "galaxies_train = set(data_train.galaxy)\n",
    "galaxies_test = set(data_test.galaxy)\n",
    "len(galaxies_train), len(galaxies_test), len(galaxies_train & galaxies_test)"
   ]
  },
  {
   "cell_type": "code",
   "execution_count": 13,
   "metadata": {},
   "outputs": [
    {
     "data": {
      "text/plain": [
       "(26, 10, 9, 27)"
      ]
     },
     "execution_count": 13,
     "metadata": {},
     "output_type": "execute_result"
    }
   ],
   "source": [
    "years_train = set(data_train.galactic_year)\n",
    "years_test = set(data_test.galactic_year)\n",
    "\n",
    "len(years_train), len(years_test), len(years_train & years_test), len(years_test | years_train)"
   ]
  },
  {
   "cell_type": "code",
   "execution_count": 14,
   "metadata": {
    "scrolled": true
   },
   "outputs": [
    {
     "data": {
      "text/plain": [
       "{1016064}"
      ]
     },
     "execution_count": 14,
     "metadata": {},
     "output_type": "execute_result"
    }
   ],
   "source": [
    "years_test - years_train"
   ]
  },
  {
   "cell_type": "code",
   "execution_count": 15,
   "metadata": {},
   "outputs": [
    {
     "data": {
      "text/plain": [
       "(3865, 2)"
      ]
     },
     "execution_count": 15,
     "metadata": {},
     "output_type": "execute_result"
    }
   ],
   "source": [
    "data_train[['galaxy', 'galactic_year']].drop_duplicates().shape"
   ]
  },
  {
   "cell_type": "code",
   "execution_count": 16,
   "metadata": {},
   "outputs": [
    {
     "data": {
      "text/plain": [
       "(0, 157)"
      ]
     },
     "execution_count": 16,
     "metadata": {},
     "output_type": "execute_result"
    }
   ],
   "source": [
    "data_train.merge(data_test, on=['galaxy', 'galactic_year']).shape"
   ]
  },
  {
   "cell_type": "code",
   "execution_count": 17,
   "metadata": {},
   "outputs": [],
   "source": [
    "le = LabelEncoder()\n",
    "years_list = sorted(list(set(data_train.galactic_year) | set(data_test.galactic_year)))\n",
    "years_dict = {k: v + 1 for k, v in zip(years_list, le.fit_transform(years_list))}"
   ]
  },
  {
   "cell_type": "code",
   "execution_count": 18,
   "metadata": {},
   "outputs": [],
   "source": [
    "data_train['year'] = data_train.galactic_year.map(years_dict)\n",
    "galaxy_stat_train = data_train.groupby('galaxy').year\\\n",
    "    .agg([lambda x: x.nunique(), 'min', 'max']).reset_index()\n",
    "galaxy_stat_train.columns = ['galaxy', 'train_nunique', 'train_min', 'train_max']\n",
    "\n",
    "data_test['year'] = data_test.galactic_year.map(years_dict)\n",
    "galaxy_stat_test = data_test.groupby('galaxy').year\\\n",
    "    .agg([lambda x: x.nunique(), 'min', 'max']).reset_index()\n",
    "galaxy_stat_test.columns = ['galaxy', 'test_nunique', 'test_min', 'test_max']\n",
    "\n",
    "galaxy_stat = galaxy_stat_train.merge(galaxy_stat_test, on='galaxy')"
   ]
  },
  {
   "cell_type": "code",
   "execution_count": 19,
   "metadata": {},
   "outputs": [
    {
     "data": {
      "text/html": [
       "<div>\n",
       "<style scoped>\n",
       "    .dataframe tbody tr th:only-of-type {\n",
       "        vertical-align: middle;\n",
       "    }\n",
       "\n",
       "    .dataframe tbody tr th {\n",
       "        vertical-align: top;\n",
       "    }\n",
       "\n",
       "    .dataframe thead th {\n",
       "        text-align: right;\n",
       "    }\n",
       "</style>\n",
       "<table border=\"1\" class=\"dataframe\">\n",
       "  <thead>\n",
       "    <tr style=\"text-align: right;\">\n",
       "      <th></th>\n",
       "      <th>galaxy</th>\n",
       "      <th>train_nunique</th>\n",
       "      <th>train_min</th>\n",
       "      <th>train_max</th>\n",
       "      <th>test_nunique</th>\n",
       "      <th>test_min</th>\n",
       "      <th>test_max</th>\n",
       "      <th>val_diff</th>\n",
       "    </tr>\n",
       "  </thead>\n",
       "  <tbody>\n",
       "    <tr>\n",
       "      <th>0</th>\n",
       "      <td>Andromeda Galaxy (M31)</td>\n",
       "      <td>18</td>\n",
       "      <td>1</td>\n",
       "      <td>26</td>\n",
       "      <td>8</td>\n",
       "      <td>18</td>\n",
       "      <td>25</td>\n",
       "      <td>2</td>\n",
       "    </tr>\n",
       "    <tr>\n",
       "      <th>1</th>\n",
       "      <td>Andromeda I</td>\n",
       "      <td>18</td>\n",
       "      <td>1</td>\n",
       "      <td>26</td>\n",
       "      <td>8</td>\n",
       "      <td>18</td>\n",
       "      <td>25</td>\n",
       "      <td>2</td>\n",
       "    </tr>\n",
       "    <tr>\n",
       "      <th>2</th>\n",
       "      <td>Andromeda II</td>\n",
       "      <td>25</td>\n",
       "      <td>1</td>\n",
       "      <td>25</td>\n",
       "      <td>2</td>\n",
       "      <td>26</td>\n",
       "      <td>27</td>\n",
       "      <td>1</td>\n",
       "    </tr>\n",
       "    <tr>\n",
       "      <th>3</th>\n",
       "      <td>Andromeda III</td>\n",
       "      <td>18</td>\n",
       "      <td>1</td>\n",
       "      <td>26</td>\n",
       "      <td>8</td>\n",
       "      <td>18</td>\n",
       "      <td>25</td>\n",
       "      <td>2</td>\n",
       "    </tr>\n",
       "    <tr>\n",
       "      <th>4</th>\n",
       "      <td>Andromeda IX</td>\n",
       "      <td>18</td>\n",
       "      <td>1</td>\n",
       "      <td>26</td>\n",
       "      <td>8</td>\n",
       "      <td>18</td>\n",
       "      <td>25</td>\n",
       "      <td>2</td>\n",
       "    </tr>\n",
       "    <tr>\n",
       "      <th>5</th>\n",
       "      <td>Andromeda V</td>\n",
       "      <td>18</td>\n",
       "      <td>1</td>\n",
       "      <td>26</td>\n",
       "      <td>8</td>\n",
       "      <td>18</td>\n",
       "      <td>25</td>\n",
       "      <td>2</td>\n",
       "    </tr>\n",
       "    <tr>\n",
       "      <th>6</th>\n",
       "      <td>Andromeda VIII</td>\n",
       "      <td>25</td>\n",
       "      <td>1</td>\n",
       "      <td>25</td>\n",
       "      <td>2</td>\n",
       "      <td>26</td>\n",
       "      <td>27</td>\n",
       "      <td>1</td>\n",
       "    </tr>\n",
       "    <tr>\n",
       "      <th>7</th>\n",
       "      <td>Andromeda X</td>\n",
       "      <td>17</td>\n",
       "      <td>1</td>\n",
       "      <td>17</td>\n",
       "      <td>10</td>\n",
       "      <td>18</td>\n",
       "      <td>27</td>\n",
       "      <td>1</td>\n",
       "    </tr>\n",
       "    <tr>\n",
       "      <th>8</th>\n",
       "      <td>Andromeda XI</td>\n",
       "      <td>18</td>\n",
       "      <td>1</td>\n",
       "      <td>26</td>\n",
       "      <td>8</td>\n",
       "      <td>18</td>\n",
       "      <td>25</td>\n",
       "      <td>2</td>\n",
       "    </tr>\n",
       "    <tr>\n",
       "      <th>9</th>\n",
       "      <td>Andromeda XV</td>\n",
       "      <td>25</td>\n",
       "      <td>1</td>\n",
       "      <td>25</td>\n",
       "      <td>2</td>\n",
       "      <td>26</td>\n",
       "      <td>27</td>\n",
       "      <td>1</td>\n",
       "    </tr>\n",
       "  </tbody>\n",
       "</table>\n",
       "</div>"
      ],
      "text/plain": [
       "                   galaxy  train_nunique  train_min  train_max  test_nunique  \\\n",
       "0  Andromeda Galaxy (M31)             18          1         26             8   \n",
       "1             Andromeda I             18          1         26             8   \n",
       "2            Andromeda II             25          1         25             2   \n",
       "3           Andromeda III             18          1         26             8   \n",
       "4            Andromeda IX             18          1         26             8   \n",
       "5             Andromeda V             18          1         26             8   \n",
       "6          Andromeda VIII             25          1         25             2   \n",
       "7             Andromeda X             17          1         17            10   \n",
       "8            Andromeda XI             18          1         26             8   \n",
       "9            Andromeda XV             25          1         25             2   \n",
       "\n",
       "   test_min  test_max  val_diff  \n",
       "0        18        25         2  \n",
       "1        18        25         2  \n",
       "2        26        27         1  \n",
       "3        18        25         2  \n",
       "4        18        25         2  \n",
       "5        18        25         2  \n",
       "6        26        27         1  \n",
       "7        18        27         1  \n",
       "8        18        25         2  \n",
       "9        26        27         1  "
      ]
     },
     "execution_count": 19,
     "metadata": {},
     "output_type": "execute_result"
    }
   ],
   "source": [
    "data_test['y'] = -1\n",
    "data = pd.concat([data_train, data_test], axis=0, sort=True).reset_index(drop=True)\\\n",
    "    .sort_values(['galaxy', 'year'])\n",
    "data['validation'] = np.where(data.y > 0, 0, 1)\n",
    "data['val_diff'] = data.groupby('galaxy').validation.diff().fillna(0).apply(abs).astype(int)\n",
    "galaxy_stat['val_diff'] = galaxy_stat.galaxy.map(data.groupby('galaxy').val_diff.sum())\n",
    "galaxy_stat.head(10)"
   ]
  },
  {
   "cell_type": "code",
   "execution_count": 22,
   "metadata": {},
   "outputs": [
    {
     "data": {
      "text/plain": [
       "(44, 8)"
      ]
     },
     "execution_count": 22,
     "metadata": {},
     "output_type": "execute_result"
    }
   ],
   "source": [
    "galaxy_stat[galaxy_stat.val_diff == 1].shape"
   ]
  },
  {
   "cell_type": "code",
   "execution_count": 23,
   "metadata": {},
   "outputs": [
    {
     "data": {
      "text/html": [
       "<div>\n",
       "<style scoped>\n",
       "    .dataframe tbody tr th:only-of-type {\n",
       "        vertical-align: middle;\n",
       "    }\n",
       "\n",
       "    .dataframe tbody tr th {\n",
       "        vertical-align: top;\n",
       "    }\n",
       "\n",
       "    .dataframe thead th {\n",
       "        text-align: right;\n",
       "    }\n",
       "</style>\n",
       "<table border=\"1\" class=\"dataframe\">\n",
       "  <thead>\n",
       "    <tr style=\"text-align: right;\">\n",
       "      <th></th>\n",
       "      <th>galaxy</th>\n",
       "      <th>train_nunique</th>\n",
       "      <th>train_min</th>\n",
       "      <th>train_max</th>\n",
       "      <th>test_nunique</th>\n",
       "      <th>test_min</th>\n",
       "      <th>test_max</th>\n",
       "      <th>val_diff</th>\n",
       "    </tr>\n",
       "  </thead>\n",
       "  <tbody>\n",
       "    <tr>\n",
       "      <th>0</th>\n",
       "      <td>Andromeda Galaxy (M31)</td>\n",
       "      <td>18</td>\n",
       "      <td>1</td>\n",
       "      <td>26</td>\n",
       "      <td>8</td>\n",
       "      <td>18</td>\n",
       "      <td>25</td>\n",
       "      <td>2</td>\n",
       "    </tr>\n",
       "    <tr>\n",
       "      <th>1</th>\n",
       "      <td>Andromeda I</td>\n",
       "      <td>18</td>\n",
       "      <td>1</td>\n",
       "      <td>26</td>\n",
       "      <td>8</td>\n",
       "      <td>18</td>\n",
       "      <td>25</td>\n",
       "      <td>2</td>\n",
       "    </tr>\n",
       "    <tr>\n",
       "      <th>3</th>\n",
       "      <td>Andromeda III</td>\n",
       "      <td>18</td>\n",
       "      <td>1</td>\n",
       "      <td>26</td>\n",
       "      <td>8</td>\n",
       "      <td>18</td>\n",
       "      <td>25</td>\n",
       "      <td>2</td>\n",
       "    </tr>\n",
       "    <tr>\n",
       "      <th>4</th>\n",
       "      <td>Andromeda IX</td>\n",
       "      <td>18</td>\n",
       "      <td>1</td>\n",
       "      <td>26</td>\n",
       "      <td>8</td>\n",
       "      <td>18</td>\n",
       "      <td>25</td>\n",
       "      <td>2</td>\n",
       "    </tr>\n",
       "    <tr>\n",
       "      <th>5</th>\n",
       "      <td>Andromeda V</td>\n",
       "      <td>18</td>\n",
       "      <td>1</td>\n",
       "      <td>26</td>\n",
       "      <td>8</td>\n",
       "      <td>18</td>\n",
       "      <td>25</td>\n",
       "      <td>2</td>\n",
       "    </tr>\n",
       "    <tr>\n",
       "      <th>...</th>\n",
       "      <td>...</td>\n",
       "      <td>...</td>\n",
       "      <td>...</td>\n",
       "      <td>...</td>\n",
       "      <td>...</td>\n",
       "      <td>...</td>\n",
       "      <td>...</td>\n",
       "      <td>...</td>\n",
       "    </tr>\n",
       "    <tr>\n",
       "      <th>163</th>\n",
       "      <td>UGCA 438 (ESO 407-018)</td>\n",
       "      <td>21</td>\n",
       "      <td>1</td>\n",
       "      <td>26</td>\n",
       "      <td>5</td>\n",
       "      <td>18</td>\n",
       "      <td>22</td>\n",
       "      <td>2</td>\n",
       "    </tr>\n",
       "    <tr>\n",
       "      <th>164</th>\n",
       "      <td>UGCA 86</td>\n",
       "      <td>24</td>\n",
       "      <td>1</td>\n",
       "      <td>26</td>\n",
       "      <td>2</td>\n",
       "      <td>23</td>\n",
       "      <td>24</td>\n",
       "      <td>2</td>\n",
       "    </tr>\n",
       "    <tr>\n",
       "      <th>167</th>\n",
       "      <td>Ursa Major II Dwarf</td>\n",
       "      <td>24</td>\n",
       "      <td>1</td>\n",
       "      <td>26</td>\n",
       "      <td>2</td>\n",
       "      <td>24</td>\n",
       "      <td>25</td>\n",
       "      <td>2</td>\n",
       "    </tr>\n",
       "    <tr>\n",
       "      <th>168</th>\n",
       "      <td>Ursa Minor Dwarf</td>\n",
       "      <td>24</td>\n",
       "      <td>1</td>\n",
       "      <td>26</td>\n",
       "      <td>2</td>\n",
       "      <td>24</td>\n",
       "      <td>25</td>\n",
       "      <td>2</td>\n",
       "    </tr>\n",
       "    <tr>\n",
       "      <th>170</th>\n",
       "      <td>Willman 1</td>\n",
       "      <td>24</td>\n",
       "      <td>1</td>\n",
       "      <td>26</td>\n",
       "      <td>2</td>\n",
       "      <td>24</td>\n",
       "      <td>25</td>\n",
       "      <td>2</td>\n",
       "    </tr>\n",
       "  </tbody>\n",
       "</table>\n",
       "<p>68 rows × 8 columns</p>\n",
       "</div>"
      ],
      "text/plain": [
       "                     galaxy  train_nunique  train_min  train_max  \\\n",
       "0    Andromeda Galaxy (M31)             18          1         26   \n",
       "1               Andromeda I             18          1         26   \n",
       "3             Andromeda III             18          1         26   \n",
       "4              Andromeda IX             18          1         26   \n",
       "5               Andromeda V             18          1         26   \n",
       "..                      ...            ...        ...        ...   \n",
       "163  UGCA 438 (ESO 407-018)             21          1         26   \n",
       "164                 UGCA 86             24          1         26   \n",
       "167     Ursa Major II Dwarf             24          1         26   \n",
       "168        Ursa Minor Dwarf             24          1         26   \n",
       "170               Willman 1             24          1         26   \n",
       "\n",
       "     test_nunique  test_min  test_max  val_diff  \n",
       "0               8        18        25         2  \n",
       "1               8        18        25         2  \n",
       "3               8        18        25         2  \n",
       "4               8        18        25         2  \n",
       "5               8        18        25         2  \n",
       "..            ...       ...       ...       ...  \n",
       "163             5        18        22         2  \n",
       "164             2        23        24         2  \n",
       "167             2        24        25         2  \n",
       "168             2        24        25         2  \n",
       "170             2        24        25         2  \n",
       "\n",
       "[68 rows x 8 columns]"
      ]
     },
     "execution_count": 23,
     "metadata": {},
     "output_type": "execute_result"
    }
   ],
   "source": [
    "galaxy_stat[galaxy_stat.val_diff == 2]"
   ]
  },
  {
   "cell_type": "code",
   "execution_count": 103,
   "metadata": {},
   "outputs": [
    {
     "data": {
      "text/plain": [
       "172"
      ]
     },
     "execution_count": 103,
     "metadata": {},
     "output_type": "execute_result"
    }
   ],
   "source": [
    "galaxy_stat.galaxy.nunique()"
   ]
  },
  {
   "cell_type": "code",
   "execution_count": 104,
   "metadata": {},
   "outputs": [
    {
     "data": {
      "text/plain": [
       "2    68\n",
       "3    57\n",
       "1    44\n",
       "4     3\n",
       "Name: val_diff, dtype: int64"
      ]
     },
     "execution_count": 104,
     "metadata": {},
     "output_type": "execute_result"
    }
   ],
   "source": [
    "galaxy_stat.val_diff.value_counts()"
   ]
  },
  {
   "cell_type": "code",
   "execution_count": 109,
   "metadata": {},
   "outputs": [
    {
     "data": {
      "text/plain": [
       "18    90\n",
       "23    37\n",
       "26    25\n",
       "24    20\n",
       "Name: test_min, dtype: int64"
      ]
     },
     "execution_count": 109,
     "metadata": {},
     "output_type": "execute_result"
    }
   ],
   "source": [
    "galaxy_stat.test_min.value_counts()"
   ]
  },
  {
   "cell_type": "code",
   "execution_count": 111,
   "metadata": {},
   "outputs": [
    {
     "data": {
      "text/plain": [
       "1    172\n",
       "Name: train_min, dtype: int64"
      ]
     },
     "execution_count": 111,
     "metadata": {},
     "output_type": "execute_result"
    }
   ],
   "source": [
    "galaxy_stat.train_min.value_counts()"
   ]
  },
  {
   "cell_type": "code",
   "execution_count": 110,
   "metadata": {},
   "outputs": [
    {
     "data": {
      "text/plain": [
       "26    82\n",
       "25    49\n",
       "24    22\n",
       "22    13\n",
       "17     6\n",
       "Name: train_max, dtype: int64"
      ]
     },
     "execution_count": 110,
     "metadata": {},
     "output_type": "execute_result"
    }
   ],
   "source": [
    "galaxy_stat.train_max.value_counts()"
   ]
  },
  {
   "cell_type": "markdown",
   "metadata": {},
   "source": [
    "## Idea 1: organize train in \"sales prediction\" style"
   ]
  },
  {
   "cell_type": "code",
   "execution_count": 114,
   "metadata": {},
   "outputs": [
    {
     "data": {
      "text/plain": [
       "(3865, 81)"
      ]
     },
     "execution_count": 114,
     "metadata": {},
     "output_type": "execute_result"
    }
   ],
   "source": [
    "data_train.shape"
   ]
  },
  {
   "cell_type": "code",
   "execution_count": 113,
   "metadata": {},
   "outputs": [
    {
     "data": {
      "text/plain": [
       "(3664, 81)"
      ]
     },
     "execution_count": 113,
     "metadata": {},
     "output_type": "execute_result"
    }
   ],
   "source": [
    "data_train[data_train.galaxy.isin(galaxies_test)].shape"
   ]
  },
  {
   "cell_type": "code",
   "execution_count": 141,
   "metadata": {},
   "outputs": [
    {
     "data": {
      "text/plain": [
       "((3429, 81), (235, 81), (890, 81))"
      ]
     },
     "execution_count": 141,
     "metadata": {},
     "output_type": "execute_result"
    }
   ],
   "source": [
    "df = data_train.merge(galaxy_stat[['galaxy', 'test_min']], on='galaxy')\n",
    "df_train = df[df.year < df.test_min].reset_index(drop=True).drop('test_min', axis=1)\n",
    "df_check = df[df.year >= df.test_min].reset_index(drop=True).drop('test_min', axis=1)\n",
    "df_test = pd.DataFrame(data_test)\n",
    "df_train.shape, df_check.shape, df_test.shape"
   ]
  },
  {
   "cell_type": "markdown",
   "metadata": {},
   "source": [
    "# Energy dist - ????"
   ]
  },
  {
   "cell_type": "code",
   "execution_count": 142,
   "metadata": {},
   "outputs": [],
   "source": [
    "def increase_coef(y):\n",
    "    potential = 3 - np.log(0.01 + y)\n",
    "    return (potential**2)/1000"
   ]
  },
  {
   "cell_type": "code",
   "execution_count": 144,
   "metadata": {},
   "outputs": [
    {
     "data": {
      "text/html": [
       "<div>\n",
       "<style scoped>\n",
       "    .dataframe tbody tr th:only-of-type {\n",
       "        vertical-align: middle;\n",
       "    }\n",
       "\n",
       "    .dataframe tbody tr th {\n",
       "        vertical-align: top;\n",
       "    }\n",
       "\n",
       "    .dataframe thead th {\n",
       "        text-align: right;\n",
       "    }\n",
       "</style>\n",
       "<table border=\"1\" class=\"dataframe\">\n",
       "  <thead>\n",
       "    <tr style=\"text-align: right;\">\n",
       "      <th></th>\n",
       "      <th>index</th>\n",
       "      <th>pred</th>\n",
       "      <th>opt_pred</th>\n",
       "    </tr>\n",
       "  </thead>\n",
       "  <tbody>\n",
       "    <tr>\n",
       "      <th>0</th>\n",
       "      <td>0</td>\n",
       "      <td>0.08</td>\n",
       "      <td>100</td>\n",
       "    </tr>\n",
       "    <tr>\n",
       "      <th>1</th>\n",
       "      <td>1</td>\n",
       "      <td>0.08</td>\n",
       "      <td>100</td>\n",
       "    </tr>\n",
       "    <tr>\n",
       "      <th>2</th>\n",
       "      <td>2</td>\n",
       "      <td>0.08</td>\n",
       "      <td>100</td>\n",
       "    </tr>\n",
       "    <tr>\n",
       "      <th>3</th>\n",
       "      <td>3</td>\n",
       "      <td>0.08</td>\n",
       "      <td>100</td>\n",
       "    </tr>\n",
       "    <tr>\n",
       "      <th>4</th>\n",
       "      <td>4</td>\n",
       "      <td>0.08</td>\n",
       "      <td>100</td>\n",
       "    </tr>\n",
       "  </tbody>\n",
       "</table>\n",
       "</div>"
      ],
      "text/plain": [
       "   index  pred  opt_pred\n",
       "0      0  0.08       100\n",
       "1      1  0.08       100\n",
       "2      2  0.08       100\n",
       "3      3  0.08       100\n",
       "4      4  0.08       100"
      ]
     },
     "execution_count": 144,
     "metadata": {},
     "output_type": "execute_result"
    }
   ],
   "source": [
    "sample_sub.head()"
   ]
  },
  {
   "cell_type": "code",
   "execution_count": 154,
   "metadata": {
    "collapsed": true
   },
   "outputs": [
    {
     "data": {
      "text/plain": [
       "Index(['galactic_year', 'galaxy', 'existence expectancy index',\n",
       "       'existence expectancy at birth', 'Gross income per capita',\n",
       "       'Income Index', 'Expected years of education (galactic years)',\n",
       "       'Mean years of education (galactic years)',\n",
       "       'Intergalactic Development Index (IDI)', 'Education Index',\n",
       "       'Intergalactic Development Index (IDI), Rank',\n",
       "       'Population using at least basic drinking-water services (%)',\n",
       "       'Population using at least basic sanitation services (%)',\n",
       "       'Gross capital formation (% of GGP)', 'Population, total (millions)',\n",
       "       'Population, urban (%)',\n",
       "       'Mortality rate, under-five (per 1,000 live births)',\n",
       "       'Mortality rate, infant (per 1,000 live births)',\n",
       "       'Old age dependency ratio (old age (65 and older) per 100 creatures (ages 15-64))',\n",
       "       'Population, ages 15–64 (millions)',\n",
       "       'Population, ages 65 and older (millions)',\n",
       "       'Life expectancy at birth, male (galactic years)',\n",
       "       'Life expectancy at birth, female (galactic years)',\n",
       "       'Population, under age 5 (millions)',\n",
       "       'Young age (0-14) dependency ratio (per 100 creatures ages 15-64)',\n",
       "       'Adolescent birth rate (births per 1,000 female creatures ages 15-19)',\n",
       "       'Total unemployment rate (female to male ratio)',\n",
       "       'Vulnerable employment (% of total employment)',\n",
       "       'Unemployment, total (% of labour force)',\n",
       "       'Employment in agriculture (% of total employment)',\n",
       "       'Labour force participation rate (% ages 15 and older)',\n",
       "       'Labour force participation rate (% ages 15 and older), female',\n",
       "       'Employment in services (% of total employment)',\n",
       "       'Labour force participation rate (% ages 15 and older), male',\n",
       "       'Employment to population ratio (% ages 15 and older)',\n",
       "       'Jungle area (% of total land area)',\n",
       "       'Share of employment in nonagriculture, female (% of total employment in nonagriculture)',\n",
       "       'Youth unemployment rate (female to male ratio)',\n",
       "       'Unemployment, youth (% ages 15–24)',\n",
       "       'Mortality rate, female grown up (per 1,000 people)',\n",
       "       'Mortality rate, male grown up (per 1,000 people)',\n",
       "       'Infants lacking immunization, red hot disease (% of one-galactic year-olds)',\n",
       "       'Infants lacking immunization, Combination Vaccine (% of one-galactic year-olds)',\n",
       "       'Gross galactic product (GGP) per capita',\n",
       "       'Gross galactic product (GGP), total',\n",
       "       'Outer Galaxies direct investment, net inflows (% of GGP)',\n",
       "       'Exports and imports (% of GGP)',\n",
       "       'Share of seats in senate (% held by female)',\n",
       "       'Natural resource depletion',\n",
       "       'Mean years of education, female (galactic years)',\n",
       "       'Mean years of education, male (galactic years)',\n",
       "       'Expected years of education, female (galactic years)',\n",
       "       'Expected years of education, male (galactic years)',\n",
       "       'Maternal mortality ratio (deaths per 100,000 live births)',\n",
       "       'Renewable energy consumption (% of total final energy consumption)',\n",
       "       'Estimated gross galactic income per capita, male',\n",
       "       'Estimated gross galactic income per capita, female',\n",
       "       'Rural population with access to electricity (%)',\n",
       "       'Domestic credit provided by financial sector (% of GGP)',\n",
       "       'Population with at least some secondary education, female (% ages 25 and older)',\n",
       "       'Population with at least some secondary education, male (% ages 25 and older)',\n",
       "       'Gross fixed capital formation (% of GGP)',\n",
       "       'Remittances, inflows (% of GGP)',\n",
       "       'Population with at least some secondary education (% ages 25 and older)',\n",
       "       'Intergalactic inbound tourists (thousands)',\n",
       "       'Gross enrolment ratio, primary (% of primary under-age population)',\n",
       "       'Respiratory disease incidence (per 100,000 people)',\n",
       "       'Interstellar phone subscriptions (per 100 people)',\n",
       "       'Interstellar Data Net users, total (% of population)',\n",
       "       'Current health expenditure (% of GGP)',\n",
       "       'Intergalactic Development Index (IDI), female',\n",
       "       'Intergalactic Development Index (IDI), male',\n",
       "       'Gender Development Index (GDI)',\n",
       "       'Intergalactic Development Index (IDI), female, Rank',\n",
       "       'Intergalactic Development Index (IDI), male, Rank',\n",
       "       'Adjusted net savings ',\n",
       "       'Creature Immunodeficiency Disease prevalence, adult (% ages 15-49), total',\n",
       "       'Private galaxy capital flows (% of GGP)',\n",
       "       'Gender Inequality Index (GII)', 'y', 'year'],\n",
       "      dtype='object')"
      ]
     },
     "execution_count": 154,
     "metadata": {},
     "output_type": "execute_result"
    }
   ],
   "source": [
    "df_train.columns"
   ]
  },
  {
   "cell_type": "code",
   "execution_count": 155,
   "metadata": {},
   "outputs": [
    {
     "data": {
      "text/html": [
       "<div>\n",
       "<style scoped>\n",
       "    .dataframe tbody tr th:only-of-type {\n",
       "        vertical-align: middle;\n",
       "    }\n",
       "\n",
       "    .dataframe tbody tr th {\n",
       "        vertical-align: top;\n",
       "    }\n",
       "\n",
       "    .dataframe thead th {\n",
       "        text-align: right;\n",
       "    }\n",
       "</style>\n",
       "<table border=\"1\" class=\"dataframe\">\n",
       "  <thead>\n",
       "    <tr style=\"text-align: right;\">\n",
       "      <th></th>\n",
       "      <th>index</th>\n",
       "      <th>pred</th>\n",
       "      <th>eei</th>\n",
       "      <th>likely_increase</th>\n",
       "    </tr>\n",
       "  </thead>\n",
       "  <tbody>\n",
       "    <tr>\n",
       "      <th>0</th>\n",
       "      <td>0</td>\n",
       "      <td>0.052590</td>\n",
       "      <td>0.628657</td>\n",
       "      <td>0.033306</td>\n",
       "    </tr>\n",
       "    <tr>\n",
       "      <th>1</th>\n",
       "      <td>1</td>\n",
       "      <td>0.052115</td>\n",
       "      <td>0.627245</td>\n",
       "      <td>0.033394</td>\n",
       "    </tr>\n",
       "    <tr>\n",
       "      <th>2</th>\n",
       "      <td>2</td>\n",
       "      <td>0.052006</td>\n",
       "      <td>0.662135</td>\n",
       "      <td>0.033414</td>\n",
       "    </tr>\n",
       "    <tr>\n",
       "      <th>3</th>\n",
       "      <td>3</td>\n",
       "      <td>0.051675</td>\n",
       "      <td>0.687776</td>\n",
       "      <td>0.033476</td>\n",
       "    </tr>\n",
       "    <tr>\n",
       "      <th>4</th>\n",
       "      <td>4</td>\n",
       "      <td>0.051334</td>\n",
       "      <td>0.727717</td>\n",
       "      <td>0.033541</td>\n",
       "    </tr>\n",
       "  </tbody>\n",
       "</table>\n",
       "</div>"
      ],
      "text/plain": [
       "   index      pred       eei  likely_increase\n",
       "0      0  0.052590  0.628657         0.033306\n",
       "1      1  0.052115  0.627245         0.033394\n",
       "2      2  0.052006  0.662135         0.033414\n",
       "3      3  0.051675  0.687776         0.033476\n",
       "4      4  0.051334  0.727717         0.033541"
      ]
     },
     "execution_count": 155,
     "metadata": {},
     "output_type": "execute_result"
    }
   ],
   "source": [
    "train_sub = pd.DataFrame()\n",
    "train_sub['index'] = list(range(len(df_train)))\n",
    "train_sub['pred'] = df_train.y\n",
    "train_sub['eei'] = df_train['existence expectancy index']\n",
    "train_sub['likely_increase'] = increase_coef(train_sub.pred)\n",
    "train_sub.head()"
   ]
  },
  {
   "cell_type": "code",
   "execution_count": 172,
   "metadata": {},
   "outputs": [
    {
     "data": {
      "text/html": [
       "<div>\n",
       "<style scoped>\n",
       "    .dataframe tbody tr th:only-of-type {\n",
       "        vertical-align: middle;\n",
       "    }\n",
       "\n",
       "    .dataframe tbody tr th {\n",
       "        vertical-align: top;\n",
       "    }\n",
       "\n",
       "    .dataframe thead th {\n",
       "        text-align: right;\n",
       "    }\n",
       "</style>\n",
       "<table border=\"1\" class=\"dataframe\">\n",
       "  <thead>\n",
       "    <tr style=\"text-align: right;\">\n",
       "      <th></th>\n",
       "      <th>index</th>\n",
       "      <th>pred</th>\n",
       "      <th>eei</th>\n",
       "      <th>likely_increase</th>\n",
       "      <th>opt_pred</th>\n",
       "    </tr>\n",
       "  </thead>\n",
       "  <tbody>\n",
       "    <tr>\n",
       "      <th>0</th>\n",
       "      <td>0</td>\n",
       "      <td>0.052590</td>\n",
       "      <td>0.628657</td>\n",
       "      <td>0.033306</td>\n",
       "      <td>0</td>\n",
       "    </tr>\n",
       "    <tr>\n",
       "      <th>1</th>\n",
       "      <td>1</td>\n",
       "      <td>0.052115</td>\n",
       "      <td>0.627245</td>\n",
       "      <td>0.033394</td>\n",
       "      <td>0</td>\n",
       "    </tr>\n",
       "    <tr>\n",
       "      <th>2</th>\n",
       "      <td>2</td>\n",
       "      <td>0.052006</td>\n",
       "      <td>0.662135</td>\n",
       "      <td>0.033414</td>\n",
       "      <td>0</td>\n",
       "    </tr>\n",
       "    <tr>\n",
       "      <th>3</th>\n",
       "      <td>3</td>\n",
       "      <td>0.051675</td>\n",
       "      <td>0.687776</td>\n",
       "      <td>0.033476</td>\n",
       "      <td>0</td>\n",
       "    </tr>\n",
       "    <tr>\n",
       "      <th>4</th>\n",
       "      <td>4</td>\n",
       "      <td>0.051334</td>\n",
       "      <td>0.727717</td>\n",
       "      <td>0.033541</td>\n",
       "      <td>0</td>\n",
       "    </tr>\n",
       "  </tbody>\n",
       "</table>\n",
       "</div>"
      ],
      "text/plain": [
       "   index      pred       eei  likely_increase  opt_pred\n",
       "0      0  0.052590  0.628657         0.033306         0\n",
       "1      1  0.052115  0.627245         0.033394         0\n",
       "2      2  0.052006  0.662135         0.033414         0\n",
       "3      3  0.051675  0.687776         0.033476         0\n",
       "4      4  0.051334  0.727717         0.033541         0"
      ]
     },
     "execution_count": 172,
     "metadata": {},
     "output_type": "execute_result"
    }
   ],
   "source": [
    "## calc optimal energy dist\n",
    "opt_dist = train_sub[['index', 'likely_increase']].set_index('index')\\\n",
    "    .sort_values('likely_increase', ascending=False)\n",
    "opt_dist['opt_pred'] = [100]*500 + [0]*(len(opt_dist) - 500)\n",
    "train_sub['opt_pred'] = train_sub['index'].map(opt_dist.opt_pred)\n",
    "\n",
    "train_sub.head()"
   ]
  },
  {
   "cell_type": "code",
   "execution_count": 173,
   "metadata": {},
   "outputs": [
    {
     "data": {
      "text/plain": [
       "(26000, 50000)"
      ]
     },
     "execution_count": 173,
     "metadata": {},
     "output_type": "execute_result"
    }
   ],
   "source": [
    "train_sub.loc[train_sub.eei < 0.7, 'opt_pred'].sum(), train_sub.opt_pred.sum()"
   ]
  },
  {
   "cell_type": "code",
   "execution_count": 157,
   "metadata": {},
   "outputs": [
    {
     "data": {
      "text/plain": [
       "100    100\n",
       "80     100\n",
       "70     100\n",
       "60     100\n",
       "50     100\n",
       "40     100\n",
       "30     100\n",
       "20     100\n",
       "10      90\n",
       "Name: opt_pred, dtype: int64"
      ]
     },
     "execution_count": 157,
     "metadata": {},
     "output_type": "execute_result"
    }
   ],
   "source": [
    "sample_sub.opt_pred.value_counts()"
   ]
  }
 ],
 "metadata": {
  "kernelspec": {
   "display_name": "Python 3",
   "language": "python",
   "name": "python3"
  },
  "language_info": {
   "codemirror_mode": {
    "name": "ipython",
    "version": 3
   },
   "file_extension": ".py",
   "mimetype": "text/x-python",
   "name": "python",
   "nbconvert_exporter": "python",
   "pygments_lexer": "ipython3",
   "version": "3.6.9"
  }
 },
 "nbformat": 4,
 "nbformat_minor": 2
}
