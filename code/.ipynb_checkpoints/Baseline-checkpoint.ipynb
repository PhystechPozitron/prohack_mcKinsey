{
 "cells": [
  {
   "cell_type": "code",
   "execution_count": 499,
   "metadata": {},
   "outputs": [],
   "source": [
    "import pandas as pd\n",
    "import numpy as np\n",
    "import re\n",
    "import itertools\n",
    "import matplotlib.pyplot as plt\n",
    "import pickle\n",
    "from sklearn.utils import shuffle\n",
    "\n",
    "from sklearn.model_selection import KFold, GroupKFold, GroupShuffleSplit, train_test_split, cross_val_predict, cross_val_score\n",
    "from sklearn.linear_model import LogisticRegression\n",
    "from sklearn.model_selection import RandomizedSearchCV\n",
    "from sklearn.metrics import mean_squared_error as MSE\n",
    "import xgboost as xgb\n",
    "from copy import deepcopy\n",
    "from sklearn.ensemble import RandomForestClassifier\n",
    "from sklearn.preprocessing import StandardScaler\n",
    "from sklearn.inspection import permutation_importance\n",
    "import seaborn as sns\n",
    "import lightgbm as lgb\n",
    "import gc\n",
    "import shap\n",
    "from copy import deepcopy\n",
    "\n",
    "from sklearn.preprocessing import LabelEncoder\n",
    "from math import floor\n",
    "from scipy.stats import norm"
   ]
  },
  {
   "cell_type": "markdown",
   "metadata": {},
   "source": [
    "# Functions"
   ]
  },
  {
   "cell_type": "code",
   "execution_count": 500,
   "metadata": {},
   "outputs": [],
   "source": [
    "def cross_validation(model, df, features, cv=3, top_feats=20, batch=2, n_repeats=1,\n",
    "                     calc_top=True, plot=True, prnt=True, \n",
    "                     height=0.25, vsize=20, hsize=15, tsize=12, sort_by='perm'):\n",
    "    \n",
    "    assert cv > 0, \"'cv' parameter must be > 0\"\n",
    "    assert cv * batch < 18, \"'cv' parameter must be < 18/batch\"\n",
    "    perm_importances, gain_importances = [], []\n",
    "    train_scores, test_scores = [], []\n",
    "    for r in range(n_repeats):\n",
    "        np.random.seed(10*r)\n",
    "        model_cp = deepcopy(model)\n",
    "        params = model.get_params()\n",
    "        params['random_state'] += 10*r\n",
    "        model_cp.set_params(**params)\n",
    "        for i in range(cv):\n",
    "            if prnt:\n",
    "                print(\"Fitting on fold number\", cv*r + i + 1, \"...\")\n",
    "            cond = (df.validation == 'train') & (df.year < df.min_test_year - (cv - i)*batch)\n",
    "            X_train = df.loc[cond, features]\n",
    "            y_train = df.loc[cond, 'y']\n",
    "            cond = (df.validation == 'train') & (df.year >= df.min_test_year - (cv - i)*batch) \\\n",
    "                & (df.year < df.min_test_year - (cv - i - 1)*batch)\n",
    "            X_test = df.loc[cond, features]\n",
    "            y_test = df.loc[cond, 'y']\n",
    "        \n",
    "            model_cp.fit(X_train, y_train)\n",
    "            y_train_pred = model_cp.predict(X_train)\n",
    "            y_test_pred = model_cp.predict(X_test)\n",
    "            test_score, train_score = np.sqrt(MSE(y_test, y_test_pred)), np.sqrt(MSE(y_train, y_train_pred))\n",
    "            train_scores.append(train_score)\n",
    "            test_scores.append(test_score)\n",
    "        \n",
    "            if calc_top:\n",
    "                if prnt:\n",
    "                    print('Calculating importances...')\n",
    "                perm_imp = np.array(permutation_importance(model_cp, X_test, y_test, \n",
    "                                                           scoring='neg_mean_squared_error', \n",
    "                                                           random_state=10*r)['importances_mean'])\n",
    "                gain_imp = np.array(model_cp.feature_importances_)\n",
    "                perm_importances.append(perm_imp)\n",
    "                gain_importances.append(gain_imp)\n",
    "    \n",
    "    top_df = pd.DataFrame()\n",
    "    if calc_top:\n",
    "        # get top df\n",
    "        top_df['names'] = X_test.columns\n",
    "        top_df['perm'] = sum(perm_importances)/len(perm_importances)\n",
    "        top_df['perm'] = top_df.perm/top_df.perm.sum()\n",
    "        top_df['gain'] = sum(gain_importances)/len(gain_importances)\n",
    "        top_df['gain'] = top_df.gain/top_df.gain.sum()\n",
    "    \n",
    "        top_df.sort_values(by=sort_by, ascending=False, inplace=True)\n",
    "        top_df = top_df.reset_index(drop=True)\n",
    "        top_df_show = top_df.iloc[:top_feats].sort_values(by=sort_by, ascending=True).reset_index(drop=True)\n",
    "    \n",
    "        if plot:\n",
    "            # draw plot\n",
    "            ar = np.arange(len(top_df_show))\n",
    "            plt.figure(figsize=(vsize, hsize))\n",
    "            plt.barh(ar - height, top_df_show.perm, height=height, label='permutation')\n",
    "            plt.barh(ar + height, top_df_show.gain, height=height, label='gain')\n",
    "            plt.yticks(ar, top_df_show.names, size=tsize)\n",
    "        \n",
    "            plt.title('Значимость признаков для модели', size=20)\n",
    "            plt.grid()\n",
    "            plt.legend(loc=4, prop={'size': 20})\n",
    "            plt.show()\n",
    "    \n",
    "    return top_df, np.array(test_scores), np.array(train_scores)    "
   ]
  },
  {
   "cell_type": "code",
   "execution_count": 362,
   "metadata": {},
   "outputs": [],
   "source": [
    "def RFECV(model, df, features, n_iters=4, n_splits=3, n_repeats=1,\n",
    "          min_feat_number=30, batch=2, step=10, plot=True):\n",
    "    \n",
    "    candidates = list(features)\n",
    "    best_steps = []\n",
    "    for it in range(n_iters):\n",
    "        print(\"Iteration number\", it + 1, sep=' ')\n",
    "        top_features, _, _ = cross_validation(model, df, candidates, cv=n_splits, \n",
    "                                        batch=batch, n_repeats=n_repeats, calc_top=True, \n",
    "                                        plot=False, prnt=False)\n",
    "        candidates = list(top_features.names.values)\n",
    "        num_features_list = list(range(len(candidates), min_feat_number, -step))\n",
    "        scores = []\n",
    "        print(\"Looking for best number of features...\")\n",
    "        for num_features in num_features_list:\n",
    "            selected_features_ = candidates[:num_features]\n",
    "            \n",
    "            ## cross validation\n",
    "            _, cv, _ = cross_validation(model, df, selected_features_, cv=n_splits, \n",
    "                                        batch=batch, n_repeats=n_repeats, calc_top=False, \n",
    "                                        plot=False, prnt=False)\n",
    "            scores.append((num_features, cv.mean()))\n",
    "            \n",
    "        best_step_ = sorted(scores, key=lambda x: x[1])[0]\n",
    "        best_num_features, best_score = best_step_[0], best_step_[1]\n",
    "        if  (it > 0) and (best_num_features == best_steps[-1][0]):\n",
    "            break\n",
    "        candidates = list(top_features.names.values[:best_num_features])\n",
    "        print(\"Best number of features:\", best_num_features, \"; cv score = \", best_score)\n",
    "        best_steps.append(best_step_)\n",
    "        if plot:\n",
    "            plt.plot([x[0] for x in scores], [x[1] for x in scores])\n",
    "            plt.xlabel('num_features')\n",
    "            plt.ylabel('score')\n",
    "            plt.grid()\n",
    "            plt.show()\n",
    "        \n",
    "    if plot:\n",
    "        plt.title('Final plot')\n",
    "        plt.plot([x[0] for x in best_steps], [x[1] for x in best_steps])\n",
    "        plt.xlabel('num_features')\n",
    "        plt.ylabel('score')\n",
    "        plt.grid()\n",
    "        plt.show()\n",
    "        \n",
    "    return candidates, best_steps"
   ]
  },
  {
   "cell_type": "code",
   "execution_count": 363,
   "metadata": {},
   "outputs": [],
   "source": [
    "def iter_selection(model, df, top_features, start=2, \n",
    "                   n_splits=3, batch=2, n_repeats=1, min_folds_inc=3, plot=True):\n",
    "    assert min_folds_inc <= n_splits, \"min_folds_inc must be <= n_splits\"\n",
    "    \n",
    "    selected_features_ = list(top_features.names.values[:start])\n",
    "    print('Start!')\n",
    "    _, cv_prev, _ = cross_validation(model, df, selected_features_, cv=n_splits,\n",
    "                                     batch=batch, n_repeats=n_repeats, \n",
    "                                     calc_top=False, plot=False, prnt=False)\n",
    "    scores = [cv_prev.mean()]\n",
    "\n",
    "    for n in range(start, len(top_features.names.values)):\n",
    "        print(\"current scores:\", [round(x, 4) for x in cv_prev])\n",
    "        print(\"mean:\", cv_prev.mean())\n",
    "        f = top_features.names.values[n]\n",
    "        print(f)\n",
    "        selected_features_.append(f)\n",
    "\n",
    "        ## try adding new feature to model\n",
    "        _, cv, _ = cross_validation(model, df, selected_features_, cv=n_splits,\n",
    "                                    batch=batch, n_repeats=n_repeats, \n",
    "                                    calc_top=False, plot=False, prnt=False)\n",
    "        cv_cmp = sorted(list(zip(cv_prev, cv)), key=lambda x:x[0])\n",
    "        print([x[1] < x[0] for x in cv_cmp])\n",
    "        if (sum([x[1] < x[0] for x in cv_cmp]) >= min_folds_inc):\n",
    "            print('features added!')\n",
    "            scores.append(cv.mean())\n",
    "            cv_prev = cv\n",
    "        else:\n",
    "            print('features dropped!')\n",
    "            selected_features_.remove(f)\n",
    "\n",
    "    if plot:\n",
    "        plt.plot(scores)\n",
    "        plt.xlabel('num_features')\n",
    "        plt.ylabel('score')\n",
    "        plt.grid()\n",
    "        plt.show()\n",
    "    \n",
    "    return selected_features_"
   ]
  },
  {
   "cell_type": "code",
   "execution_count": 364,
   "metadata": {},
   "outputs": [],
   "source": [
    "import os\n",
    "import contextlib\n",
    "\n",
    "def make_prediction(model, df, n_repeats=10):\n",
    "    assert n_repeats > 0, \"n_repeats must be > 0\"\n",
    "    pred = np.zeros(len(df))\n",
    "    for r in range(n_repeats):\n",
    "        np.random.seed(10*r)\n",
    "        with open(os.devnull, \"w\") as f, contextlib.redirect_stdout(f):\n",
    "            model_cp = deepcopy(model)\n",
    "        params = model.get_params()\n",
    "        params['random_state'] += 10*r\n",
    "        model_cp.set_params(**params)\n",
    "        pred += model_cp.predict(df)\n",
    "        \n",
    "    return pred/n_repeats"
   ]
  },
  {
   "cell_type": "markdown",
   "metadata": {},
   "source": [
    "# Read and prepare data"
   ]
  },
  {
   "cell_type": "code",
   "execution_count": 465,
   "metadata": {},
   "outputs": [],
   "source": [
    "data_test = pd.read_csv('../data/test.csv')\n",
    "data_test.columns = ['galactic_year'] + list(data_test.columns[1:])\n",
    "data_test.insert(0, 'id', data_test.index)\n",
    "\n",
    "data_train = pd.read_csv('../data/train.csv')\n",
    "data_train.columns = ['galactic_year'] + list(data_train.columns[1:])\n",
    "data_train.insert(0, 'id', list(range(len(data_test), len(data_test) + len(data_train))))\n",
    "\n",
    "train_galaxies = set(data_train.galaxy)\n",
    "test_galaxies = set(data_test.galaxy)"
   ]
  },
  {
   "cell_type": "code",
   "execution_count": 466,
   "metadata": {},
   "outputs": [
    {
     "data": {
      "text/html": [
       "<div>\n",
       "<style scoped>\n",
       "    .dataframe tbody tr th:only-of-type {\n",
       "        vertical-align: middle;\n",
       "    }\n",
       "\n",
       "    .dataframe tbody tr th {\n",
       "        vertical-align: top;\n",
       "    }\n",
       "\n",
       "    .dataframe thead th {\n",
       "        text-align: right;\n",
       "    }\n",
       "</style>\n",
       "<table border=\"1\" class=\"dataframe\">\n",
       "  <thead>\n",
       "    <tr style=\"text-align: right;\">\n",
       "      <th></th>\n",
       "      <th>Adjusted_net_savings</th>\n",
       "      <th>Adolescent_birth_rate_births_per_1_000_female_creatures_ages_15_19</th>\n",
       "      <th>Creature_Immunodeficiency_Disease_prevalence_adult__ages_15_49__total</th>\n",
       "      <th>Current_health_expenditure__of_GGP</th>\n",
       "      <th>Domestic_credit_provided_by_financial_sector__of_GGP</th>\n",
       "      <th>Education_Index</th>\n",
       "      <th>Employment_in_agriculture__of_total_employment</th>\n",
       "      <th>Employment_in_services__of_total_employment</th>\n",
       "      <th>Employment_to_population_ratio__ages_15_and_older</th>\n",
       "      <th>Estimated_gross_galactic_income_per_capita_female</th>\n",
       "      <th>...</th>\n",
       "      <th>Youth_unemployment_rate_female_to_male_ratio</th>\n",
       "      <th>existence_expectancy_at_birth</th>\n",
       "      <th>existence_expectancy_index</th>\n",
       "      <th>galactic_year</th>\n",
       "      <th>galaxy</th>\n",
       "      <th>id</th>\n",
       "      <th>y</th>\n",
       "      <th>year</th>\n",
       "      <th>min_test_year</th>\n",
       "      <th>validation</th>\n",
       "    </tr>\n",
       "  </thead>\n",
       "  <tbody>\n",
       "    <tr>\n",
       "      <th>125</th>\n",
       "      <td>NaN</td>\n",
       "      <td>94.59542</td>\n",
       "      <td>NaN</td>\n",
       "      <td>NaN</td>\n",
       "      <td>NaN</td>\n",
       "      <td>NaN</td>\n",
       "      <td>NaN</td>\n",
       "      <td>NaN</td>\n",
       "      <td>NaN</td>\n",
       "      <td>NaN</td>\n",
       "      <td>...</td>\n",
       "      <td>NaN</td>\n",
       "      <td>72.020628</td>\n",
       "      <td>0.759989</td>\n",
       "      <td>990025</td>\n",
       "      <td>Andromeda Galaxy (M31)</td>\n",
       "      <td>1015</td>\n",
       "      <td>0.049214</td>\n",
       "      <td>1</td>\n",
       "      <td>18</td>\n",
       "      <td>train</td>\n",
       "    </tr>\n",
       "    <tr>\n",
       "      <th>242</th>\n",
       "      <td>NaN</td>\n",
       "      <td>NaN</td>\n",
       "      <td>NaN</td>\n",
       "      <td>NaN</td>\n",
       "      <td>NaN</td>\n",
       "      <td>NaN</td>\n",
       "      <td>NaN</td>\n",
       "      <td>NaN</td>\n",
       "      <td>NaN</td>\n",
       "      <td>NaN</td>\n",
       "      <td>...</td>\n",
       "      <td>NaN</td>\n",
       "      <td>68.279470</td>\n",
       "      <td>0.769566</td>\n",
       "      <td>991020</td>\n",
       "      <td>Andromeda Galaxy (M31)</td>\n",
       "      <td>1132</td>\n",
       "      <td>0.048541</td>\n",
       "      <td>2</td>\n",
       "      <td>18</td>\n",
       "      <td>train</td>\n",
       "    </tr>\n",
       "  </tbody>\n",
       "</table>\n",
       "<p>2 rows × 84 columns</p>\n",
       "</div>"
      ],
      "text/plain": [
       "     Adjusted_net_savings  \\\n",
       "125                   NaN   \n",
       "242                   NaN   \n",
       "\n",
       "     Adolescent_birth_rate_births_per_1_000_female_creatures_ages_15_19  \\\n",
       "125                                           94.59542                    \n",
       "242                                                NaN                    \n",
       "\n",
       "     Creature_Immunodeficiency_Disease_prevalence_adult__ages_15_49__total  \\\n",
       "125                                                NaN                       \n",
       "242                                                NaN                       \n",
       "\n",
       "     Current_health_expenditure__of_GGP  \\\n",
       "125                                 NaN   \n",
       "242                                 NaN   \n",
       "\n",
       "     Domestic_credit_provided_by_financial_sector__of_GGP  Education_Index  \\\n",
       "125                                                NaN                 NaN   \n",
       "242                                                NaN                 NaN   \n",
       "\n",
       "     Employment_in_agriculture__of_total_employment  \\\n",
       "125                                             NaN   \n",
       "242                                             NaN   \n",
       "\n",
       "     Employment_in_services__of_total_employment  \\\n",
       "125                                          NaN   \n",
       "242                                          NaN   \n",
       "\n",
       "     Employment_to_population_ratio__ages_15_and_older  \\\n",
       "125                                                NaN   \n",
       "242                                                NaN   \n",
       "\n",
       "     Estimated_gross_galactic_income_per_capita_female  ...  \\\n",
       "125                                                NaN  ...   \n",
       "242                                                NaN  ...   \n",
       "\n",
       "     Youth_unemployment_rate_female_to_male_ratio  \\\n",
       "125                                           NaN   \n",
       "242                                           NaN   \n",
       "\n",
       "     existence_expectancy_at_birth  existence_expectancy_index  galactic_year  \\\n",
       "125                      72.020628                    0.759989         990025   \n",
       "242                      68.279470                    0.769566         991020   \n",
       "\n",
       "                     galaxy    id         y  year  min_test_year  validation  \n",
       "125  Andromeda Galaxy (M31)  1015  0.049214     1             18       train  \n",
       "242  Andromeda Galaxy (M31)  1132  0.048541     2             18       train  \n",
       "\n",
       "[2 rows x 84 columns]"
      ]
     },
     "execution_count": 466,
     "metadata": {},
     "output_type": "execute_result"
    }
   ],
   "source": [
    "## concat train and test\n",
    "le = LabelEncoder()\n",
    "years_list = sorted(list(set(data_train.galactic_year) | set(data_test.galactic_year)))\n",
    "years_dict = {k: v + 1 for k, v in zip(years_list, le.fit_transform(years_list))}\n",
    "data_train['year'] = data_train.galactic_year.map(years_dict)\n",
    "data_test['year'] = data_test.galactic_year.map(years_dict)\n",
    "data_test['y'] = -1\n",
    "data = pd.concat([data_train, data_test], axis=0, sort=True).reset_index(drop=True)\\\n",
    "    .sort_values(['galaxy', 'year'])\n",
    "\n",
    "## correct feature names\n",
    "data.columns = [\"_\".join(re.sub(r'[^\\w]', '_', f).split('__')).strip('_') for f in data.columns]\n",
    "\n",
    "data['min_test_year'] = data.galaxy.map(data_test.groupby('galaxy').year.min()).fillna(0).astype(int)\n",
    "data['validation'] = np.where((data.year < data.min_test_year) & (data.y != -1), 'train', 'other')\n",
    "data['validation'] = np.where((data.validation == 'other') & (data.galaxy.isin(test_galaxies)), \n",
    "                              'check', data.validation)\n",
    "data['validation'] = np.where(data.y == -1, 'test', data.validation)\n",
    "data.head(2)"
   ]
  },
  {
   "cell_type": "code",
   "execution_count": 467,
   "metadata": {},
   "outputs": [
    {
     "data": {
      "text/plain": [
       "train    3429\n",
       "test      890\n",
       "check     235\n",
       "other     201\n",
       "Name: validation, dtype: int64"
      ]
     },
     "execution_count": 467,
     "metadata": {},
     "output_type": "execute_result"
    }
   ],
   "source": [
    "data.validation.value_counts()"
   ]
  },
  {
   "cell_type": "code",
   "execution_count": 469,
   "metadata": {},
   "outputs": [
    {
     "data": {
      "text/plain": [
       "1.0"
      ]
     },
     "execution_count": 469,
     "metadata": {},
     "output_type": "execute_result"
    }
   ],
   "source": [
    "data.id.nunique()/len(data)"
   ]
  },
  {
   "cell_type": "code",
   "execution_count": 470,
   "metadata": {},
   "outputs": [],
   "source": [
    "data.to_csv('../data/train_test_data.csv', index=False)"
   ]
  },
  {
   "cell_type": "markdown",
   "metadata": {},
   "source": [
    "# Feature engineering "
   ]
  },
  {
   "cell_type": "code",
   "execution_count": 471,
   "metadata": {},
   "outputs": [],
   "source": [
    "features = [f for f in data.columns if f not in ['id', 'y', 'year', 'galaxy', \n",
    "                                                 'galactic_year', 'validation', 'min_test_year']]"
   ]
  },
  {
   "cell_type": "markdown",
   "metadata": {},
   "source": [
    "# Selection"
   ]
  },
  {
   "cell_type": "code",
   "execution_count": 330,
   "metadata": {},
   "outputs": [],
   "source": [
    "lgb_regressor = lgb.LGBMRegressor(random_state=0, \n",
    "                                  num_leaves=15,\n",
    "                                  max_depth=4,\n",
    "                                  n_estimators=200,\n",
    "                                  learning_rate=0.05,\n",
    "                                  subsample=0.75,\n",
    "                                  colsample_bytree=0.75)"
   ]
  },
  {
   "cell_type": "code",
   "execution_count": 331,
   "metadata": {
    "collapsed": true
   },
   "outputs": [
    {
     "name": "stdout",
     "output_type": "stream",
     "text": [
      "Fitting on fold number 1 ...\n",
      "Calculating importances...\n",
      "Fitting on fold number 2 ...\n",
      "Calculating importances...\n",
      "Fitting on fold number 3 ...\n",
      "Calculating importances...\n",
      "Fitting on fold number 4 ...\n",
      "Calculating importances...\n",
      "Fitting on fold number 5 ...\n",
      "Calculating importances...\n",
      "Fitting on fold number 6 ...\n",
      "Calculating importances...\n",
      "Fitting on fold number 7 ...\n",
      "Calculating importances...\n",
      "Fitting on fold number 8 ...\n",
      "Calculating importances...\n",
      "Fitting on fold number 9 ...\n",
      "Calculating importances...\n",
      "Fitting on fold number 10 ...\n",
      "Calculating importances...\n"
     ]
    },
    {
     "data": {
      "image/png": "[encoded data removed]",
      "text/plain": [
       "<Figure size 1440x1080 with 1 Axes>"
      ]
     },
     "metadata": {
      "needs_background": "light"
     },
     "output_type": "display_data"
    }
   ],
   "source": [
    "top_features, test_scores, train_scores = cross_validation(lgb_regressor, data, features,\n",
    "                                                           batch=2, cv=5, n_repeats=2, top_feats=20)"
   ]
  },
  {
   "cell_type": "code",
   "execution_count": 334,
   "metadata": {},
   "outputs": [
    {
     "name": "stdout",
     "output_type": "stream",
     "text": [
      "[0.0255, 0.0262, 0.0267, 0.0328, 0.0389, 0.0253, 0.0271, 0.0268, 0.0328, 0.0381]\n",
      "train RMSE: 0.0167215561829148 0.000957622281566321\n",
      "val RMSE: 0.03002168832501322 0.004971428524960219\n"
     ]
    }
   ],
   "source": [
    "print([round(x, 4) for x in test_scores])\n",
    "print('train RMSE:', train_scores.mean(), train_scores.std())\n",
    "print('val RMSE:', test_scores.mean(), test_scores.std())"
   ]
  },
  {
   "cell_type": "code",
   "execution_count": 335,
   "metadata": {},
   "outputs": [
    {
     "name": "stdout",
     "output_type": "stream",
     "text": [
      "Iteration number 1\n",
      "Looking for best number of features...\n",
      "Best number of features: 35 ; cv score =  0.029674552155466084\n"
     ]
    },
    {
     "data": {
      "image/png": "[encoded data removed]",
      "text/plain": [
       "<Figure size 432x288 with 1 Axes>"
      ]
     },
     "metadata": {
      "needs_background": "light"
     },
     "output_type": "display_data"
    },
    {
     "name": "stdout",
     "output_type": "stream",
     "text": [
      "Iteration number 2\n",
      "Looking for best number of features...\n"
     ]
    },
    {
     "data": {
      "image/png": "[encoded data removed]",
      "text/plain": [
       "<Figure size 432x288 with 1 Axes>"
      ]
     },
     "metadata": {
      "needs_background": "light"
     },
     "output_type": "display_data"
    }
   ],
   "source": [
    "selected_features, _ = RFECV(lgb_regressor, data, features, \n",
    "                             batch=2, n_splits=5, n_repeats=2, \n",
    "                             n_iters=2, min_feat_number=5, step=3)"
   ]
  },
  {
   "cell_type": "code",
   "execution_count": 321,
   "metadata": {},
   "outputs": [],
   "source": [
    "#selected_features = iter_selection(lgb_regressor, data, top_features, batch=2, n_splits=5, \n",
    "#                                   min_folds_inc=4)"
   ]
  },
  {
   "cell_type": "code",
   "execution_count": 476,
   "metadata": {
    "scrolled": true
   },
   "outputs": [],
   "source": [
    "selected_features = ['Intergalactic_Development_Index_IDI__Rank',\n",
    "       'existence_expectancy_index', 'Gross_income_per_capita',\n",
    "       'existence_expectancy_at_birth',\n",
    "       'Intergalactic_Development_Index_IDI', 'Income_Index',\n",
    "       'Education_Index', 'Expected_years_of_education_galactic_years',\n",
    "       'Mean_years_of_education_galactic_years',\n",
    "       'Share_of_seats_in_senate__held_by_female',\n",
    "       'Renewable_energy_consumption__of_total_final_energy_consumption',\n",
    "       'Old_age_dependency_ratio_old_age_65_and_older_per_100_creatures_ages_15_64',\n",
    "       'Interstellar_Data_Net_users_total__of_population',\n",
    "       'Labour_force_participation_rate__ages_15_and_older__female',\n",
    "       'Employment_to_population_ratio__ages_15_and_older',\n",
    "       'Gross_capital_formation__of_GGP',\n",
    "       'Population_using_at_least_basic_sanitation_services',\n",
    "       'Population_using_at_least_basic_drinking_water_services',\n",
    "       'Share_of_employment_in_nonagriculture_female__of_total_employment_in_nonagriculture',\n",
    "       'Expected_years_of_education_female_galactic_years',\n",
    "       'Gender_Inequality_Index_GII',\n",
    "       'Interstellar_phone_subscriptions_per_100_people',\n",
    "       'Mortality_rate_male_grown_up_per_1_000_people',\n",
    "       'Labour_force_participation_rate__ages_15_and_older',\n",
    "       'Adolescent_birth_rate_births_per_1_000_female_creatures_ages_15_19',\n",
    "       'Population_urban', 'Vulnerable_employment__of_total_employment',\n",
    "       'Exports_and_imports__of_GGP',\n",
    "       'Life_expectancy_at_birth_female_galactic_years',\n",
    "       'Young_age_0_14_dependency_ratio_per_100_creatures_ages_15_64',\n",
    "       'Gross_galactic_product_GGP_per_capita',\n",
    "       'Life_expectancy_at_birth_male_galactic_years',\n",
    "       'Employment_in_services__of_total_employment',\n",
    "       'Private_galaxy_capital_flows__of_GGP',\n",
    "       'Estimated_gross_galactic_income_per_capita_female']"
   ]
  },
  {
   "cell_type": "markdown",
   "metadata": {},
   "source": [
    "# Evaluation"
   ]
  },
  {
   "cell_type": "code",
   "execution_count": 482,
   "metadata": {},
   "outputs": [],
   "source": [
    "lgb_regressor = lgb.LGBMRegressor(random_state=0, \n",
    "                                  num_leaves=15,\n",
    "                                  max_depth=4,\n",
    "                                  n_estimators=200,\n",
    "                                  learning_rate=0.05,\n",
    "                                  subsample=0.75,\n",
    "                                  colsample_bytree=0.75)"
   ]
  },
  {
   "cell_type": "code",
   "execution_count": 483,
   "metadata": {},
   "outputs": [
    {
     "name": "stdout",
     "output_type": "stream",
     "text": [
      "Fitting on fold number 1 ...\n",
      "Fitting on fold number 2 ...\n",
      "Fitting on fold number 3 ...\n",
      "Fitting on fold number 4 ...\n",
      "Fitting on fold number 5 ...\n",
      "Fitting on fold number 6 ...\n",
      "Fitting on fold number 7 ...\n",
      "Fitting on fold number 8 ...\n",
      "Fitting on fold number 9 ...\n",
      "Fitting on fold number 10 ...\n",
      "[0.025, 0.0267, 0.0268, 0.0324, 0.0376, 0.0248, 0.0271, 0.0267, 0.0323, 0.0378]\n",
      "train RMSE: 0.016620365172128983 0.0009272630315320517\n",
      "val RMSE: 0.029722556886911045 0.004720249952937966\n",
      "CPU times: user 6.78 s, sys: 48 ms, total: 6.82 s\n",
      "Wall time: 1.8 s\n"
     ]
    }
   ],
   "source": [
    "%%time\n",
    "top_features, test_scores, train_scores = cross_validation(lgb_regressor, data, selected_features, \n",
    "                                                           batch=2, cv=5, n_repeats=2, \n",
    "                                                           calc_top=False, plot=False)\n",
    "\n",
    "print([round(x, 4) for x in test_scores])\n",
    "print('train RMSE:', train_scores.mean(), train_scores.std())\n",
    "print('val RMSE:', test_scores.mean(), test_scores.std())"
   ]
  },
  {
   "cell_type": "code",
   "execution_count": 484,
   "metadata": {},
   "outputs": [
    {
     "name": "stdout",
     "output_type": "stream",
     "text": [
      "CPU times: user 710 ms, sys: 0 ns, total: 710 ms\n",
      "Wall time: 212 ms\n"
     ]
    },
    {
     "data": {
      "text/plain": [
       "LGBMRegressor(colsample_bytree=0.75, learning_rate=0.05, max_depth=4,\n",
       "              n_estimators=200, num_leaves=15, random_state=0, subsample=0.75)"
      ]
     },
     "execution_count": 484,
     "metadata": {},
     "output_type": "execute_result"
    }
   ],
   "source": [
    "%%time\n",
    "train = pd.DataFrame(data[data.validation == 'train'].reset_index(drop=True))\n",
    "lgb_regressor.fit(train[selected_features], train.y)"
   ]
  },
  {
   "cell_type": "markdown",
   "metadata": {},
   "source": [
    "# Estimate error in ranking"
   ]
  },
  {
   "cell_type": "code",
   "execution_count": 485,
   "metadata": {},
   "outputs": [
    {
     "data": {
      "text/plain": [
       "0.04214448544891256"
      ]
     },
     "execution_count": 485,
     "metadata": {},
     "output_type": "execute_result"
    }
   ],
   "source": [
    "check = pd.DataFrame(data[data.validation == 'check'])\n",
    "check['pred'] = make_prediction(lgb_regressor, check[selected_features])\n",
    "np.sqrt(MSE(check.y, check.pred))"
   ]
  },
  {
   "cell_type": "code",
   "execution_count": 497,
   "metadata": {},
   "outputs": [],
   "source": [
    "check[['id', 'pred']].to_csv('../data/check_predictions.csv', index=False)"
   ]
  },
  {
   "cell_type": "code",
   "execution_count": 486,
   "metadata": {},
   "outputs": [
    {
     "data": {
      "text/plain": [
       "0.1412813953053621"
      ]
     },
     "execution_count": 486,
     "metadata": {},
     "output_type": "execute_result"
    }
   ],
   "source": [
    "check = check.sort_values('y').reset_index(drop=True)\n",
    "check['rank_y'] = list(range(1, len(check) + 1))\n",
    "check = check.sort_values('pred').reset_index(drop=True)\n",
    "check['rank_pred'] = list(range(1, len(check) + 1))\n",
    "check_preds = pd.DataFrame(check[['y', 'pred', 'rank_y', 'rank_pred']])\n",
    "check_preds.sort_values('y').head()\n",
    "check_preds['err_2'] = (check_preds.rank_y - check_preds.rank_pred)**2\n",
    "rel_rank_error = np.sqrt(check_preds.err_2.sum()/len(check_preds))/len(check_preds)\n",
    "rel_rank_error"
   ]
  },
  {
   "cell_type": "markdown",
   "metadata": {},
   "source": [
    "# Make submission"
   ]
  },
  {
   "cell_type": "code",
   "execution_count": 487,
   "metadata": {},
   "outputs": [],
   "source": [
    "def increase_coef(y):\n",
    "    potential = 3 - np.log(0.01 + y)\n",
    "    return (potential**2)/1000"
   ]
  },
  {
   "cell_type": "code",
   "execution_count": 489,
   "metadata": {},
   "outputs": [
    {
     "data": {
      "text/html": [
       "<div>\n",
       "<style scoped>\n",
       "    .dataframe tbody tr th:only-of-type {\n",
       "        vertical-align: middle;\n",
       "    }\n",
       "\n",
       "    .dataframe tbody tr th {\n",
       "        vertical-align: top;\n",
       "    }\n",
       "\n",
       "    .dataframe thead th {\n",
       "        text-align: right;\n",
       "    }\n",
       "</style>\n",
       "<table border=\"1\" class=\"dataframe\">\n",
       "  <thead>\n",
       "    <tr style=\"text-align: right;\">\n",
       "      <th></th>\n",
       "      <th>index</th>\n",
       "      <th>eei</th>\n",
       "      <th>pred</th>\n",
       "      <th>likely_increase</th>\n",
       "    </tr>\n",
       "  </thead>\n",
       "  <tbody>\n",
       "    <tr>\n",
       "      <th>0</th>\n",
       "      <td>0</td>\n",
       "      <td>0.456086</td>\n",
       "      <td>0.043110</td>\n",
       "      <td>0.035229</td>\n",
       "    </tr>\n",
       "    <tr>\n",
       "      <th>1</th>\n",
       "      <td>1</td>\n",
       "      <td>0.529835</td>\n",
       "      <td>0.043241</td>\n",
       "      <td>0.035200</td>\n",
       "    </tr>\n",
       "    <tr>\n",
       "      <th>2</th>\n",
       "      <td>2</td>\n",
       "      <td>0.560976</td>\n",
       "      <td>0.043459</td>\n",
       "      <td>0.035151</td>\n",
       "    </tr>\n",
       "    <tr>\n",
       "      <th>3</th>\n",
       "      <td>3</td>\n",
       "      <td>0.565910</td>\n",
       "      <td>0.043568</td>\n",
       "      <td>0.035127</td>\n",
       "    </tr>\n",
       "    <tr>\n",
       "      <th>4</th>\n",
       "      <td>4</td>\n",
       "      <td>0.588274</td>\n",
       "      <td>0.039906</td>\n",
       "      <td>0.035971</td>\n",
       "    </tr>\n",
       "  </tbody>\n",
       "</table>\n",
       "</div>"
      ],
      "text/plain": [
       "   index       eei      pred  likely_increase\n",
       "0      0  0.456086  0.043110         0.035229\n",
       "1      1  0.529835  0.043241         0.035200\n",
       "2      2  0.560976  0.043459         0.035151\n",
       "3      3  0.565910  0.043568         0.035127\n",
       "4      4  0.588274  0.039906         0.035971"
      ]
     },
     "execution_count": 489,
     "metadata": {},
     "output_type": "execute_result"
    }
   ],
   "source": [
    "test = pd.DataFrame(data[data.validation == 'test']\\\n",
    "                    .sort_values('id').reset_index(drop=True))\n",
    "test['pred'] = make_prediction(lgb_regressor, test[selected_features])\n",
    "test_sub = pd.DataFrame(test[['id', 'existence_expectancy_index', 'pred']])\n",
    "test_sub.columns = ['index', 'eei', 'pred']\n",
    "test_sub['likely_increase'] = increase_coef(test_sub.pred)\n",
    "test_sub.head()"
   ]
  },
  {
   "cell_type": "code",
   "execution_count": 490,
   "metadata": {},
   "outputs": [
    {
     "data": {
      "image/png": "[encoded data removed]",
      "text/plain": [
       "<Figure size 432x288 with 1 Axes>"
      ]
     },
     "metadata": {
      "needs_background": "light"
     },
     "output_type": "display_data"
    }
   ],
   "source": [
    "plt.hist(test_sub.pred, bins=100)\n",
    "\n",
    "plt.show()"
   ]
  },
  {
   "cell_type": "code",
   "execution_count": 491,
   "metadata": {},
   "outputs": [
    {
     "name": "stdout",
     "output_type": "stream",
     "text": [
      "Rank error estimation: 125\n"
     ]
    }
   ],
   "source": [
    "## rank error estimation\n",
    "abs_rank_error = int(rel_rank_error*len(test))\n",
    "print(\"Rank error estimation:\", abs_rank_error)\n",
    "\n",
    "## norm distribution\n",
    "opt_pred = [100*norm.cdf((499 - x)/abs_rank_error) for x in range(len(test))]"
   ]
  },
  {
   "cell_type": "code",
   "execution_count": 492,
   "metadata": {},
   "outputs": [
    {
     "data": {
      "text/plain": [
       "(6570.397695772304, 49947.02920285131)"
      ]
     },
     "execution_count": 492,
     "metadata": {},
     "output_type": "execute_result"
    }
   ],
   "source": [
    "opt_dist = test_sub[['index', 'likely_increase']].set_index('index')\\\n",
    "    .sort_values('likely_increase', ascending=False)\n",
    "opt_dist['opt_pred'] = opt_pred\n",
    "test_sub['opt_pred'] = test_sub['index'].map(opt_dist.opt_pred)\n",
    "\n",
    "test_sub.loc[test_sub.eei < 0.7, 'opt_pred'].sum(), test_sub.opt_pred.sum()"
   ]
  },
  {
   "cell_type": "code",
   "execution_count": 493,
   "metadata": {},
   "outputs": [
    {
     "data": {
      "text/plain": [
       "1718.9445769107597"
      ]
     },
     "execution_count": 493,
     "metadata": {},
     "output_type": "execute_result"
    }
   ],
   "source": [
    "sum(test_sub['opt_pred'] * test_sub['likely_increase'])"
   ]
  },
  {
   "cell_type": "code",
   "execution_count": 494,
   "metadata": {},
   "outputs": [
    {
     "data": {
      "text/html": [
       "<div>\n",
       "<style scoped>\n",
       "    .dataframe tbody tr th:only-of-type {\n",
       "        vertical-align: middle;\n",
       "    }\n",
       "\n",
       "    .dataframe tbody tr th {\n",
       "        vertical-align: top;\n",
       "    }\n",
       "\n",
       "    .dataframe thead th {\n",
       "        text-align: right;\n",
       "    }\n",
       "</style>\n",
       "<table border=\"1\" class=\"dataframe\">\n",
       "  <thead>\n",
       "    <tr style=\"text-align: right;\">\n",
       "      <th></th>\n",
       "      <th>index</th>\n",
       "      <th>pred</th>\n",
       "      <th>opt_pred</th>\n",
       "    </tr>\n",
       "  </thead>\n",
       "  <tbody>\n",
       "    <tr>\n",
       "      <th>0</th>\n",
       "      <td>0</td>\n",
       "      <td>0.043110</td>\n",
       "      <td>99.371987</td>\n",
       "    </tr>\n",
       "    <tr>\n",
       "      <th>1</th>\n",
       "      <td>1</td>\n",
       "      <td>0.043241</td>\n",
       "      <td>99.265637</td>\n",
       "    </tr>\n",
       "    <tr>\n",
       "      <th>2</th>\n",
       "      <td>2</td>\n",
       "      <td>0.043459</td>\n",
       "      <td>98.961116</td>\n",
       "    </tr>\n",
       "    <tr>\n",
       "      <th>3</th>\n",
       "      <td>3</td>\n",
       "      <td>0.043568</td>\n",
       "      <td>98.845674</td>\n",
       "    </tr>\n",
       "    <tr>\n",
       "      <th>4</th>\n",
       "      <td>4</td>\n",
       "      <td>0.039906</td>\n",
       "      <td>99.901925</td>\n",
       "    </tr>\n",
       "  </tbody>\n",
       "</table>\n",
       "</div>"
      ],
      "text/plain": [
       "   index      pred   opt_pred\n",
       "0      0  0.043110  99.371987\n",
       "1      1  0.043241  99.265637\n",
       "2      2  0.043459  98.961116\n",
       "3      3  0.043568  98.845674\n",
       "4      4  0.039906  99.901925"
      ]
     },
     "execution_count": 494,
     "metadata": {},
     "output_type": "execute_result"
    }
   ],
   "source": [
    "test_sub = test_sub.sort_values(by='index').reset_index(drop=True)\n",
    "test_sub[['index', 'pred', 'opt_pred']].head()"
   ]
  },
  {
   "cell_type": "code",
   "execution_count": 495,
   "metadata": {},
   "outputs": [],
   "source": [
    "test_sub[['index', 'pred', 'opt_pred']].to_csv('../data/submission_2_katya.csv', index=False)"
   ]
  }
 ],
 "metadata": {
  "kernelspec": {
   "display_name": "Python 3",
   "language": "python",
   "name": "python3"
  },
  "language_info": {
   "codemirror_mode": {
    "name": "ipython",
    "version": 3
   },
   "file_extension": ".py",
   "mimetype": "text/x-python",
   "name": "python",
   "nbconvert_exporter": "python",
   "pygments_lexer": "ipython3",
   "version": "3.6.9"
  }
 },
 "nbformat": 4,
 "nbformat_minor": 2
}
